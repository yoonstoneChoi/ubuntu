{
 "cells": [
  {
   "cell_type": "markdown",
   "source": [
    "# 역전파 학습 알고리즘"
   ],
   "metadata": {}
  },
  {
   "cell_type": "code",
   "execution_count": 1,
   "source": [
    "import numpy as np"
   ],
   "outputs": [],
   "metadata": {}
  },
  {
   "cell_type": "code",
   "execution_count": 8,
   "source": [
    "## 학습 샘플과 정답 xor\n",
    "X = np.array([[0,0],[0,1],[1,0],[1,1]])\n",
    "T = np.array([[0],[1],[1],[0]])"
   ],
   "outputs": [],
   "metadata": {}
  },
  {
   "cell_type": "code",
   "execution_count": 2,
   "source": [
    "def actf(x):\n",
    "    return 1 / (1+np.exp(-x))\n",
    "\n",
    "# 활성화 함수 미분치 \n",
    "def actf_deriv(x):\n",
    "    return x * (1-x)"
   ],
   "outputs": [],
   "metadata": {}
  },
  {
   "cell_type": "code",
   "execution_count": null,
   "source": [
    "# 입력 유닛, 은닉 유닛, 출력 유닛\n",
    "inputs, hidden, outputs = 2,2,1\n",
    "learning_rate = 0.2\n",
    "\n"
   ],
   "outputs": [],
   "metadata": {}
  },
  {
   "cell_type": "code",
   "execution_count": 3,
   "source": [
    "## 훈련데이터\n",
    "W1 = np.array([[0.10,0.20], [0.30,0.40]])\n",
    "W2 = np.array([[0.50], [0.60]])\n",
    "B1 = np.array([0.1,0.2])\n",
    "B2 = np.array([0.3])"
   ],
   "outputs": [],
   "metadata": {}
  },
  {
   "cell_type": "code",
   "execution_count": 5,
   "source": [
    "## 순방향 전파 계산\n",
    "def predict(X):\n",
    "    layer0 = X ## 입력을 layer0에 대입\n",
    "    Z1 = np.dot(layer0, W1) + B1 ## 입력값에 대해 aiffine function 계산: 행렬 곱\n",
    "    layer1 = actf(Z1) ## ## 활성화 함수 (시그모이드)\n",
    "    Z2 = np.dot(layer1, W2) + B2 ## layer1에 대해 aiffine function 계산\n",
    "    layer2 = actf(Z2) ## 활성화 함수 (시그모이드)\n",
    "    return layer0, layer1, layer2"
   ],
   "outputs": [],
   "metadata": {}
  },
  {
   "cell_type": "code",
   "execution_count": 20,
   "source": [
    "# 역전파 계산\n",
    "def fit():\n",
    "    global W1, W2, B1, B2 \n",
    "    for i in range(90000):\n",
    "        for x, y in zip(X, T):\n",
    "            x = np.reshape(x, (1,-1))\n",
    "            y = np.reshape(y, (1,-1))\n",
    "            learning_rate = 0.5\n",
    "\n",
    "            layer0, layer1, layer2 = predict(x) # 순방향 계산\n",
    "            layer2_error = layer2 - y ## 오차 계산 \n",
    "            # 역전파 계산을 델타라한다. \n",
    "            layer2_delta = layer2_error * actf_deriv(layer2) ## 출력층의 덽타 계싼\n",
    "            # 미분 체인룰이 뭔지 확인해보자\n",
    "            layer1_error = np.dot(layer2_delta, W2.T) ## 은닉층의 오차 계싼\n",
    "            layer1_delta = layer1_error * actf_deriv(layer1) # 은닉층의 델타값 계산\n",
    "\n",
    "            W2 += -learning_rate * np.dot(layer1.T, layer2_delta)\n",
    "            W1 += -learning_rate * np.dot(layer0.T, layer1_delta)\n",
    "            B2 += -learning_rate * np.sum(layer2_delta,  axis = 1)\n",
    "            B2 += -learning_rate * np.sum(layer1_delta, axis = 1)\n",
    "\n",
    "\n"
   ],
   "outputs": [],
   "metadata": {}
  },
  {
   "cell_type": "code",
   "execution_count": 21,
   "source": [
    "def test():\n",
    "    for x, y in zip(X, T):\n",
    "        x = np.reshape(x, (1,-1))\n",
    "        layer0, layer1, layer2 = predict(x)\n",
    "        print(x, y, layer2)\n",
    "fit()\n",
    "test()  "
   ],
   "outputs": [
    {
     "output_type": "stream",
     "name": "stdout",
     "text": [
      "[[0 0]] [0] [[0.02265067]]\n",
      "[[0 1]] [1] [[0.93742308]]\n",
      "[[1 0]] [1] [[0.93677968]]\n",
      "[[1 1]] [0] [[0.16385167]]\n"
     ]
    }
   ],
   "metadata": {}
  },
  {
   "cell_type": "code",
   "execution_count": null,
   "source": [],
   "outputs": [],
   "metadata": {}
  },
  {
   "cell_type": "code",
   "execution_count": null,
   "source": [],
   "outputs": [],
   "metadata": {}
  }
 ],
 "metadata": {
  "orig_nbformat": 4,
  "language_info": {
   "name": "python",
   "version": "3.8.8",
   "mimetype": "text/x-python",
   "codemirror_mode": {
    "name": "ipython",
    "version": 3
   },
   "pygments_lexer": "ipython3",
   "nbconvert_exporter": "python",
   "file_extension": ".py"
  },
  "kernelspec": {
   "name": "python3",
   "display_name": "Python 3.8.8 64-bit ('base': conda)"
  },
  "interpreter": {
   "hash": "39c6663c694f66742a48c32a0de310398657a941bd026b39790ca56507cab329"
  }
 },
 "nbformat": 4,
 "nbformat_minor": 2
}