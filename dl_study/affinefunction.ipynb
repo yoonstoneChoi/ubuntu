{
 "cells": [
  {
   "cell_type": "markdown",
   "source": [
    "## Affine Function"
   ],
   "metadata": {}
  },
  {
   "cell_type": "code",
   "execution_count": 1,
   "source": [
    "import tensorflow as tf \n",
    "from tensorflow.keras.layers import Dense"
   ],
   "outputs": [],
   "metadata": {}
  },
  {
   "cell_type": "code",
   "execution_count": 21,
   "source": [],
   "outputs": [],
   "metadata": {}
  },
  {
   "cell_type": "code",
   "execution_count": 22,
   "source": [
    "print(type(x))"
   ],
   "outputs": [
    {
     "output_type": "stream",
     "name": "stdout",
     "text": [
      "<class 'tensorflow.python.framework.ops.EagerTensor'>\n"
     ]
    }
   ],
   "metadata": {}
  },
  {
   "cell_type": "code",
   "execution_count": 41,
   "source": [
    "x = tf.constant([[10.]]) ## 불변은 콘스턴트, 변하는건 var\n",
    "## Input setting(input -> matrix)\n",
    "\n",
    "\n",
    "## dense 뉴련 생성\n",
    "dense = Dense(units=1, activation = 'linear') ## unit : 뉴런 갯수, activation : 시그모이드, 탄, 등등\n",
    "\n",
    "y_tf = dense(x) ## 뉴런에 인풋 넣기 ## a * 10 + b\n",
    "## forward propagation + params initialization z = xw + b / 순방향 처리 "
   ],
   "outputs": [],
   "metadata": {}
  },
  {
   "cell_type": "code",
   "execution_count": 42,
   "source": [
    "y_tf"
   ],
   "outputs": [
    {
     "output_type": "execute_result",
     "data": {
      "text/plain": [
       "<tf.Tensor: shape=(1, 1), dtype=float32, numpy=array([[13.19476]], dtype=float32)>"
      ]
     },
     "metadata": {},
     "execution_count": 42
    }
   ],
   "metadata": {}
  },
  {
   "cell_type": "code",
   "execution_count": 43,
   "source": [
    "dense.get_weights()"
   ],
   "outputs": [
    {
     "output_type": "execute_result",
     "data": {
      "text/plain": [
       "[array([[1.319476]], dtype=float32), array([0.], dtype=float32)]"
      ]
     },
     "metadata": {},
     "execution_count": 43
    }
   ],
   "metadata": {}
  },
  {
   "cell_type": "code",
   "execution_count": 44,
   "source": [
    "W, b = dense.get_weights()\n",
    "print(W, b, y_tf.numpy())"
   ],
   "outputs": [
    {
     "output_type": "stream",
     "name": "stdout",
     "text": [
      "[[1.319476]] [0.] [[13.19476]]\n"
     ]
    }
   ],
   "metadata": {}
  },
  {
   "cell_type": "code",
   "execution_count": 45,
   "source": [
    "y_man = tf.linalg.matmul(x, W) + b ## matmul 은 행렬 계산을 시켜준다./ \n",
    "print(' ========== input / weight / bioase =============')\n",
    "print('x : {}\\n  {}\\n'.format(x.shape, x.numpy()))\n",
    "print('w: {}\\n   {}\\n'.format(W.shape, W))\n",
    "print('b: {}\\n   {}\\n'.format(b.shape, b))\n",
    "\n",
    "print('======= output ==========')\n",
    "print('y(tensorflow): {}\\n{}\\n'.format(y_tf.shape, y_tf.numpy()))\n",
    "print('y(manual) : {}\\n{}\\n'.format(y_man.shape, y_man.numpy()))"
   ],
   "outputs": [
    {
     "output_type": "stream",
     "name": "stdout",
     "text": [
      " ========== input / weight / bioase =============\n",
      "x : (1, 1)\n",
      "  [[10.]]\n",
      "\n",
      "w: (1, 1)\n",
      "   [[1.319476]]\n",
      "\n",
      "b: (1,)\n",
      "   [0.]\n",
      "\n",
      "======= output ==========\n",
      "y(tensorflow): (1, 1)\n",
      "[[13.19476]]\n",
      "\n",
      "y(manual) : (1, 1)\n",
      "[[13.19476]]\n",
      "\n"
     ]
    }
   ],
   "metadata": {}
  },
  {
   "cell_type": "code",
   "execution_count": 51,
   "source": [
    "# Params Intialzation\n",
    "\n",
    "from tensorflow.keras.initializers import Constant\n",
    "\n",
    "# weight / bias setting\n",
    "\n",
    "W, b = (tf.constant(10.), tf.constant(20.))\n",
    "w_init, b_init = Constant(W), Constant(b) ## 초기화 작업\n",
    "\n",
    "dense = Dense(units = 1, activation = 'linear', kernel_initializer = w_init, bias_initializer = b_init)\n",
    "\n",
    "y_tf = dense(x)\n",
    "W, b = dense.get_weights()\n",
    "\n",
    "print('W: {}\\n{}\\n'.format(W.shape, W))\n",
    "print('b: {}\\n{}\\n'.format(b.shape, b))\n",
    "print('affinefunction : ', W * x + b)\n",
    "print('y_tf :', y_tf)"
   ],
   "outputs": [
    {
     "output_type": "stream",
     "name": "stdout",
     "text": [
      "W: (1, 1)\n",
      "[[10.]]\n",
      "\n",
      "b: (1,)\n",
      "[20.]\n",
      "\n",
      "affinefunction :  tf.Tensor([[120.]], shape=(1, 1), dtype=float32)\n",
      "y_tf : tf.Tensor([[120.]], shape=(1, 1), dtype=float32)\n"
     ]
    }
   ],
   "metadata": {}
  },
  {
   "cell_type": "markdown",
   "source": [
    "## Affine Function with n Feature"
   ],
   "metadata": {}
  },
  {
   "cell_type": "code",
   "execution_count": 52,
   "source": [
    "import tensorflow as tf\n",
    "from tensorflow.keras.layers import Dense\n",
    "\n",
    "## 랜덤을 고정시켜서 해보자. dense \n",
    "tf.random.set_seed(10) ## 사이킷런 하는 것 처럼 아무 값이나 넣으면 된다. \n",
    "x = tf.random.uniform(shape = (1,10), minval = 0, maxval = 10)\n",
    "print(x.numpy())\n",
    "dense = Dense(units = 1)\n",
    "print(dense)\n",
    "\n"
   ],
   "outputs": [
    {
     "output_type": "stream",
     "name": "stdout",
     "text": [
      "[[6.4415097  8.082472   8.976547   6.3689017  6.270969   9.936013\n",
      "  0.23594856 0.36683917 5.8605776  5.7403145 ]]\n",
      "<tensorflow.python.keras.layers.core.Dense object at 0x7f0648db18b0>\n"
     ]
    }
   ],
   "metadata": {}
  },
  {
   "cell_type": "code",
   "execution_count": 54,
   "source": [
    "y_tf = dense(x)\n",
    "W, b = dense.get_weights()\n",
    "y_man = tf.linalg.matmul(x, W) + b ## 행렬 곱 시키는 것 matmul\n"
   ],
   "outputs": [],
   "metadata": {}
  },
  {
   "cell_type": "code",
   "execution_count": 56,
   "source": [
    "print(' ========== input / weight / bioase =============')\n",
    "print('x : {}\\n  {}\\n'.format(x.shape, x.numpy()))\n",
    "print('w: {}\\n   {}\\n'.format(W.shape, W))\n",
    "print('b: {}\\n   {}\\n'.format(b.shape, b))\n",
    "\n",
    "print('======= output ==========')\n",
    "print('y(tensorflow): {}\\n{}\\n'.format(y_tf.shape, y_tf.numpy()))\n",
    "print('y(manual) : {}\\n{}\\n'.format(y_man.shape, y_man.numpy()))"
   ],
   "outputs": [
    {
     "output_type": "stream",
     "name": "stdout",
     "text": [
      " ========== input / weight / bioase =============\n",
      "x : (1, 10)\n",
      "  [[6.4415097  8.082472   8.976547   6.3689017  6.270969   9.936013\n",
      "  0.23594856 0.36683917 5.8605776  5.7403145 ]]\n",
      "\n",
      "w: (10, 1)\n",
      "   [[ 0.08091772]\n",
      " [-0.10844558]\n",
      " [-0.5296768 ]\n",
      " [ 0.30087596]\n",
      " [-0.18808389]\n",
      " [ 0.29202002]\n",
      " [-0.39361012]\n",
      " [ 0.09546101]\n",
      " [-0.4453573 ]\n",
      " [ 0.6689041 ]]\n",
      "\n",
      "b: (1,)\n",
      "   [0.]\n",
      "\n",
      "======= output ==========\n",
      "y(tensorflow): (1, 1)\n",
      "[[-0.29983282]]\n",
      "\n",
      "y(manual) : (1, 1)\n",
      "[[-0.29983282]]\n",
      "\n"
     ]
    }
   ],
   "metadata": {}
  }
 ],
 "metadata": {
  "orig_nbformat": 4,
  "language_info": {
   "name": "python",
   "version": "3.8.8",
   "mimetype": "text/x-python",
   "codemirror_mode": {
    "name": "ipython",
    "version": 3
   },
   "pygments_lexer": "ipython3",
   "nbconvert_exporter": "python",
   "file_extension": ".py"
  },
  "kernelspec": {
   "name": "python3",
   "display_name": "Python 3.8.8 64-bit ('base': conda)"
  },
  "interpreter": {
   "hash": "39c6663c694f66742a48c32a0de310398657a941bd026b39790ca56507cab329"
  }
 },
 "nbformat": 4,
 "nbformat_minor": 2
}