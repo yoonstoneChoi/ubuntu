{
 "cells": [
  {
   "cell_type": "markdown",
   "source": [
    "# Activation Functions"
   ],
   "metadata": {}
  },
  {
   "cell_type": "code",
   "execution_count": 1,
   "source": [
    "import tensorflow as tf\n",
    "from tensorflow.math import exp, maximum\n",
    "from tensorflow.keras.layers import Activation"
   ],
   "outputs": [],
   "metadata": {}
  },
  {
   "cell_type": "code",
   "execution_count": 4,
   "source": [
    "tf.__version__"
   ],
   "outputs": [
    {
     "output_type": "execute_result",
     "data": {
      "text/plain": [
       "'2.5.0'"
      ]
     },
     "metadata": {},
     "execution_count": 4
    }
   ],
   "metadata": {}
  },
  {
   "cell_type": "code",
   "execution_count": 2,
   "source": [
    "tf.random.set_seed(10)  # uniform 으로 쓰기도 하고 이거로 쓸때도 있음 - 중복없도록\n",
    "x = tf.random.normal(shape=(1,5))\n",
    "\n",
    "sigmoid = Activation('sigmoid')\n",
    "tanh = Activation('tanh')\n",
    "relu = Activation('relu')\n",
    "\n",
    "# forward propagation(tensorflow)\n",
    "y_sigmoid_tf = sigmoid(x)\n",
    "y_tanh_tf = tanh(x)\n",
    "y_relu_tf = relu(x)\n",
    "\n",
    "print('x : {}\\n{}'.format(x.shape, x.numpy()))\n",
    "print('sigmoid(Tensorflow): {}\\n{}'.format(y_sigmoid_tf.shape, y_sigmoid_tf.numpy()))\n",
    "print('tanh(Tensorflow): {}\\n{}'.format(y_tanh_tf.shape, y_tanh_tf.numpy()))\n",
    "print('relu(Tensorflow): {}\\n{}'.format(y_relu_tf.shape, y_relu_tf.numpy()))"
   ],
   "outputs": [
    {
     "output_type": "stream",
     "name": "stdout",
     "text": [
      "x : (1, 5)\n",
      "[[-0.8757808   0.3356369  -0.35219625 -0.30314562 -0.03882965]]\n",
      "sigmoid(Tensorflow): (1, 5)\n",
      "[[0.29405287 0.5831303  0.41284996 0.4247887  0.4902938 ]]\n",
      "tanh(Tensorflow): (1, 5)\n",
      "[[-0.70429933  0.32357663 -0.33832183 -0.29418862 -0.03881015]]\n",
      "relu(Tensorflow): (1, 5)\n",
      "[[0.        0.3356369 0.        0.        0.       ]]\n"
     ]
    }
   ],
   "metadata": {}
  },
  {
   "cell_type": "code",
   "execution_count": 3,
   "source": [
    "# Activation in Dense Layer\n",
    "from tensorflow.keras.layers import Dense\n",
    "tf.random.set_seed(10)\n",
    "x = tf.random.normal(shape=(1,5))\n",
    "\n",
    "# imp. Artificial neurons\n",
    "dense_sigmoid = Dense(units=1, activation='sigmoid')\n",
    "dense_tanh = Dense(units=1, activation='tanh')\n",
    "dense_relu = Dense(units=1, activation='relu')\n",
    "\n",
    "# forward propagation\n",
    "y_sigmoid = dense_sigmoid(x)\n",
    "y_tanh = dense_tanh(x)\n",
    "y_relu = dense_relu(x)\n",
    "\n",
    "print('An with sigmoid: {}\\n{}'.format(y_sigmoid.shape, y_sigmoid.numpy()))\n",
    "print('An with tanh: {}\\n{}'.format(y_tanh.shape, y_tanh.numpy()))\n",
    "print('An with relu: {}\\n{}'.format(y_relu.shape, y_relu.numpy()))"
   ],
   "outputs": [
    {
     "output_type": "stream",
     "name": "stdout",
     "text": [
      "An with sigmoid: (1, 1)\n",
      "[[0.498436]]\n",
      "An with tanh: (1, 1)\n",
      "[[0.32123712]]\n",
      "An with relu: (1, 1)\n",
      "[[0.]]\n"
     ]
    }
   ],
   "metadata": {}
  },
  {
   "cell_type": "code",
   "execution_count": null,
   "source": [
    "# forward propagation()\n",
    "W, b = dense_sigmoid.get_weights()\n",
    "z= tf.linalg.matmul(x,W) + b\n",
    "a = 1 / (1+ tf.exp(-z))\n",
    "\n",
    "print('Activation value(tensorflow): {}\\n{}'.format(y_sigmoid.shape, y_sigmoid.numpy()))\n",
    "print('Activation value(manual): {}\\n{}'.format())"
   ],
   "outputs": [],
   "metadata": {}
  }
 ],
 "metadata": {
  "kernelspec": {
   "name": "python3",
   "display_name": "Python 3.8.8 64-bit ('base': conda)"
  },
  "language_info": {
   "codemirror_mode": {
    "name": "ipython",
    "version": 3
   },
   "file_extension": ".py",
   "mimetype": "text/x-python",
   "name": "python",
   "nbconvert_exporter": "python",
   "pygments_lexer": "ipython3",
   "version": "3.8.8"
  },
  "interpreter": {
   "hash": "39c6663c694f66742a48c32a0de310398657a941bd026b39790ca56507cab329"
  }
 },
 "nbformat": 4,
 "nbformat_minor": 4
}