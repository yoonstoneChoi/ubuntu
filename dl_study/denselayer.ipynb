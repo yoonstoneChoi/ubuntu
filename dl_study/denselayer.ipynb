{
 "cells": [
  {
   "cell_type": "markdown",
   "source": [
    "## Dense Layers"
   ],
   "metadata": {}
  },
  {
   "cell_type": "code",
   "execution_count": 1,
   "source": [
    "# shape of Dense layers \n",
    "import tensorflow as tf \n",
    "from tensorflow.keras.layers import Dense\n",
    "import warnings \n",
    "warnings.filterwarnings('ignore')"
   ],
   "outputs": [],
   "metadata": {}
  },
  {
   "cell_type": "code",
   "execution_count": 2,
   "source": [
    "N, n_feature = 1, 10\n",
    "tf.random.set_seed(10)\n",
    "x = tf.random.normal(shape=(N, n_feature))\n",
    "\n",
    "## 레이어 한 개\n",
    "n_neuron = 3 ## 뉴런 3개 \n",
    "dense = Dense(units = n_neuron, activation='sigmoid')\n",
    "y = dense(x)\n",
    "\n",
    "W, b = dense.get_weights()\n",
    "print('====== Input / Weight / Bias =======')\n",
    "print('x : ', x.shape)\n",
    "print('W : ', W.shape)\n",
    "print('b : ', b.shape)\n",
    "print('y : ', y.shape)"
   ],
   "outputs": [
    {
     "output_type": "stream",
     "name": "stdout",
     "text": [
      "====== Input / Weight / Bias =======\n",
      "x :  (1, 10)\n",
      "W :  (10, 3)\n",
      "b :  (3,)\n",
      "y :  (1, 3)\n"
     ]
    }
   ],
   "metadata": {}
  },
  {
   "cell_type": "code",
   "execution_count": 12,
   "source": [
    "abc = {\n",
    "    g : 123,\n",
    "    n : '하하',\n",
    "    c : '허호',\n",
    "}\n",
    "print(abc)"
   ],
   "outputs": [
    {
     "output_type": "error",
     "ename": "NameError",
     "evalue": "name 'g' is not defined",
     "traceback": [
      "\u001b[0;31m---------------------------------------------------------------------------\u001b[0m",
      "\u001b[0;31mNameError\u001b[0m                                 Traceback (most recent call last)",
      "\u001b[0;32m<ipython-input-12-4fc048d88091>\u001b[0m in \u001b[0;36m<module>\u001b[0;34m\u001b[0m\n\u001b[1;32m      1\u001b[0m abc = {\n\u001b[0;32m----> 2\u001b[0;31m     \u001b[0mg\u001b[0m \u001b[0;34m:\u001b[0m \u001b[0;36m123\u001b[0m\u001b[0;34m,\u001b[0m\u001b[0;34m\u001b[0m\u001b[0;34m\u001b[0m\u001b[0m\n\u001b[0m\u001b[1;32m      3\u001b[0m     \u001b[0mn\u001b[0m \u001b[0;34m:\u001b[0m \u001b[0;34m'하하'\u001b[0m\u001b[0;34m,\u001b[0m\u001b[0;34m\u001b[0m\u001b[0;34m\u001b[0m\u001b[0m\n\u001b[1;32m      4\u001b[0m     \u001b[0mc\u001b[0m \u001b[0;34m:\u001b[0m \u001b[0;34m'허호'\u001b[0m\u001b[0;34m,\u001b[0m\u001b[0;34m\u001b[0m\u001b[0;34m\u001b[0m\u001b[0m\n\u001b[1;32m      5\u001b[0m }\n",
      "\u001b[0;31mNameError\u001b[0m: name 'g' is not defined"
     ]
    }
   ],
   "metadata": {}
  },
  {
   "cell_type": "code",
   "execution_count": null,
   "source": [
    "## Output calcuations\n",
    "\n",
    "N, n_feature = 4, 10\n",
    "tf.random.set_seed(10)\n",
    "x = tf.random.normal(shape=(N, n_feature))\n",
    "\n",
    "## 레이어 한 개\n",
    "n_neuron = 3 ## 뉴런 3개 \n",
    "dense = Dense(units = n_neuron, activation='sigmoid')\n",
    "y_tf = dense(x)"
   ],
   "outputs": [],
   "metadata": {}
  },
  {
   "cell_type": "markdown",
   "source": [
    "## MODEL implementation"
   ],
   "metadata": {}
  },
  {
   "cell_type": "code",
   "execution_count": null,
   "source": [
    "## Subclassing 방법 알아보자"
   ],
   "outputs": [],
   "metadata": {}
  },
  {
   "cell_type": "code",
   "execution_count": 8,
   "source": [
    "## MODEL implementation with Sequential Method\n",
    "\n",
    "from tensorflow.keras.layers import Dense\n",
    "from tensorflow.keras.models import Sequential"
   ],
   "outputs": [],
   "metadata": {}
  },
  {
   "cell_type": "code",
   "execution_count": 9,
   "source": [
    "model = Sequential()\n",
    "model.add(Dense(units=10, activation='sigmoid'))\n",
    "model.add(Dense(units=20, activation='sigmoid'))"
   ],
   "outputs": [],
   "metadata": {}
  },
  {
   "cell_type": "code",
   "execution_count": 13,
   "source": [
    "## vgg 16? \n",
    "\n",
    "## 다중 레이어 생성\n",
    "\n",
    "## 리스트 어펜드로 할 경우\n",
    "n_neurons = [3, 4, 5, 6]\n",
    "model = list()\n",
    "for n_neuron in n_neurons:\n",
    "    model.append(Dense(units = n_neuron, activation = 'sigmoid'))\n",
    "    "
   ],
   "outputs": [],
   "metadata": {}
  },
  {
   "cell_type": "code",
   "execution_count": 14,
   "source": [
    "## 시퀀셜로 add 진행할 경우\n",
    "n_neurons = [3, 4, 5, 6]\n",
    "model = Sequential()\n",
    "for n_neuron in n_neurons:\n",
    "    model.add(Dense(units = n_neuron, activation = 'sigmoid'))"
   ],
   "outputs": [],
   "metadata": {}
  },
  {
   "cell_type": "code",
   "execution_count": 17,
   "source": [
    "## 기본적으로 리스트나 시퀀셜을 사용하는 것은 비슷하다. \n",
    "## 여러가지 부가기능 때문에 시퀀셜 클래스를 이용한다. "
   ],
   "outputs": [],
   "metadata": {}
  },
  {
   "cell_type": "code",
   "execution_count": null,
   "source": [
    "## subclassing을 활용해보자. \n",
    "\n"
   ],
   "outputs": [],
   "metadata": {}
  }
 ],
 "metadata": {
  "orig_nbformat": 4,
  "language_info": {
   "name": "python",
   "version": "3.8.8",
   "mimetype": "text/x-python",
   "codemirror_mode": {
    "name": "ipython",
    "version": 3
   },
   "pygments_lexer": "ipython3",
   "nbconvert_exporter": "python",
   "file_extension": ".py"
  },
  "kernelspec": {
   "name": "python3",
   "display_name": "Python 3.8.8 64-bit ('base': conda)"
  },
  "interpreter": {
   "hash": "39c6663c694f66742a48c32a0de310398657a941bd026b39790ca56507cab329"
  }
 },
 "nbformat": 4,
 "nbformat_minor": 2
}