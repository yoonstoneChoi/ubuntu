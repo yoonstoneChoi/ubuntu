{
 "cells": [
  {
   "cell_type": "code",
   "execution_count": null,
   "source": [],
   "outputs": [],
   "metadata": {}
  },
  {
   "cell_type": "markdown",
   "source": [
    "## Dense Layers"
   ],
   "metadata": {}
  },
  {
   "cell_type": "code",
   "execution_count": 1,
   "source": [
    "# shape of Dense layers \n",
    "import tensorflow as tf \n",
    "from tensorflow.keras.layers import Dense\n",
    "import warnings \n",
    "warnings.filterwarnings('ignore')"
   ],
   "outputs": [],
   "metadata": {}
  },
  {
   "cell_type": "code",
   "execution_count": 2,
   "source": [
    "N, n_feature = 1, 10\n",
    "tf.random.set_seed(10)\n",
    "x = tf.random.normal(shape=(N, n_feature))\n",
    "\n",
    "## 레이어 한 개\n",
    "n_neuron = 3 ## 뉴런 3개 \n",
    "dense = Dense(units = n_neuron, activation='sigmoid')\n",
    "y = dense(x)\n",
    "\n",
    "W, b = dense.get_weights()\n",
    "print('====== Input / Weight / Bias =======')\n",
    "print('x : ', x.shape)\n",
    "print('W : ', W.shape)\n",
    "print('b : ', b.shape)\n",
    "print('y : ', y.shape)"
   ],
   "outputs": [
    {
     "output_type": "stream",
     "name": "stdout",
     "text": [
      "====== Input / Weight / Bias =======\n",
      "x :  (1, 10)\n",
      "W :  (10, 3)\n",
      "b :  (3,)\n",
      "y :  (1, 3)\n"
     ]
    }
   ],
   "metadata": {}
  },
  {
   "cell_type": "code",
   "execution_count": 12,
   "source": [
    "abc = {\n",
    "    g : 123,\n",
    "    n : '하하',\n",
    "    c : '허호',\n",
    "}\n",
    "print(abc)"
   ],
   "outputs": [
    {
     "output_type": "error",
     "ename": "NameError",
     "evalue": "name 'g' is not defined",
     "traceback": [
      "\u001b[0;31m---------------------------------------------------------------------------\u001b[0m",
      "\u001b[0;31mNameError\u001b[0m                                 Traceback (most recent call last)",
      "\u001b[0;32m<ipython-input-12-4fc048d88091>\u001b[0m in \u001b[0;36m<module>\u001b[0;34m\u001b[0m\n\u001b[1;32m      1\u001b[0m abc = {\n\u001b[0;32m----> 2\u001b[0;31m     \u001b[0mg\u001b[0m \u001b[0;34m:\u001b[0m \u001b[0;36m123\u001b[0m\u001b[0;34m,\u001b[0m\u001b[0;34m\u001b[0m\u001b[0;34m\u001b[0m\u001b[0m\n\u001b[0m\u001b[1;32m      3\u001b[0m     \u001b[0mn\u001b[0m \u001b[0;34m:\u001b[0m \u001b[0;34m'하하'\u001b[0m\u001b[0;34m,\u001b[0m\u001b[0;34m\u001b[0m\u001b[0;34m\u001b[0m\u001b[0m\n\u001b[1;32m      4\u001b[0m     \u001b[0mc\u001b[0m \u001b[0;34m:\u001b[0m \u001b[0;34m'허호'\u001b[0m\u001b[0;34m,\u001b[0m\u001b[0;34m\u001b[0m\u001b[0;34m\u001b[0m\u001b[0m\n\u001b[1;32m      5\u001b[0m }\n",
      "\u001b[0;31mNameError\u001b[0m: name 'g' is not defined"
     ]
    }
   ],
   "metadata": {}
  },
  {
   "cell_type": "code",
   "execution_count": null,
   "source": [
    "## Output calcuations\n",
    "\n",
    "N, n_feature = 4, 10\n",
    "tf.random.set_seed(10)\n",
    "x = tf.random.normal(shape=(N, n_feature))\n",
    "\n",
    "## 레이어 한 개\n",
    "n_neuron = 3 ## 뉴런 3개 \n",
    "dense = Dense(units = n_neuron, activation='sigmoid')\n",
    "y_tf = dense(x)"
   ],
   "outputs": [],
   "metadata": {}
  },
  {
   "cell_type": "markdown",
   "source": [
    "## MODEL implementation"
   ],
   "metadata": {}
  },
  {
   "cell_type": "code",
   "execution_count": null,
   "source": [
    "## Subclassing 방법 알아보자"
   ],
   "outputs": [],
   "metadata": {}
  },
  {
   "cell_type": "code",
   "execution_count": 8,
   "source": [
    "## MODEL implementation with Sequential Method\n",
    "\n",
    "from tensorflow.keras.layers import Dense\n",
    "from tensorflow.keras.models import Sequential"
   ],
   "outputs": [],
   "metadata": {}
  },
  {
   "cell_type": "code",
   "execution_count": 9,
   "source": [
    "model = Sequential()\n",
    "model.add(Dense(units=10, activation='sigmoid'))\n",
    "model.add(Dense(units=20, activation='sigmoid'))"
   ],
   "outputs": [],
   "metadata": {}
  },
  {
   "cell_type": "code",
   "execution_count": 13,
   "source": [
    "## vgg 16? \n",
    "\n",
    "## 다중 레이어 생성\n",
    "\n",
    "## 리스트 어펜드로 할 경우\n",
    "n_neurons = [3, 4, 5, 6]\n",
    "model = list()\n",
    "for n_neuron in n_neurons:\n",
    "    model.append(Dense(units = n_neuron, activation = 'sigmoid'))\n",
    "    "
   ],
   "outputs": [],
   "metadata": {}
  },
  {
   "cell_type": "code",
   "execution_count": 14,
   "source": [
    "## 시퀀셜로 add 진행할 경우\n",
    "n_neurons = [3, 4, 5, 6]\n",
    "model = Sequential()\n",
    "for n_neuron in n_neurons:\n",
    "    model.add(Dense(units = n_neuron, activation = 'sigmoid'))"
   ],
   "outputs": [],
   "metadata": {}
  },
  {
   "cell_type": "code",
   "execution_count": 17,
   "source": [
    "## 기본적으로 리스트나 시퀀셜을 사용하는 것은 비슷하다. \n",
    "## 여러가지 부가기능 때문에 시퀀셜 클래스를 이용한다. "
   ],
   "outputs": [],
   "metadata": {}
  },
  {
   "cell_type": "code",
   "execution_count": 20,
   "source": [
    "## subclassing을 활용해보자. \n",
    "\n",
    "## Model Implementation with model-subclassing\n",
    "from tensorflow.keras.layers import Dense\n",
    "from tensorflow.keras.models import Model\n",
    "\n",
    "\n",
    "## 클래스 모델은 상속을 받을 수 있다. 위에 모듈의 메써드들을 활용할 수 있게된다. \n",
    "## 아래처럼, 상속 받은 상태에서, 필요한 것들을 추가해서 사용할 수 있다. \n",
    "class TestModel(Model):\n",
    "    def __init__(self):\n",
    "        super(TestModel, self).__init__() ## 슈퍼는 상속받은 MOdel 클래스를 말한다.  ## 모델에 init 즉 초기화를 실시한다.  ## 상위 클래스 Model 초기화 작업 호출\n",
    "        self.dense1 = Dense(units = 10, activation= 'sigmoid')\n",
    "        self.dense2 = Dense(units=20, activation='sigmoid')\n",
    "\n",
    "model = TestModel()\n",
    "print(model.dense1)\n",
    "print(model.dense2)"
   ],
   "outputs": [
    {
     "output_type": "stream",
     "name": "stdout",
     "text": [
      "<tensorflow.python.keras.layers.core.Dense object at 0x7faf47ff01f0>\n",
      "<tensorflow.python.keras.layers.core.Dense object at 0x7faf3c423eb0>\n"
     ]
    }
   ],
   "metadata": {}
  },
  {
   "cell_type": "code",
   "execution_count": 18,
   "source": [
    "## d이건 틀렸다고 한다. \n",
    "\n",
    "class TestModel():\n",
    "    def __init__(self):\n",
    "        self.dense1 = Dense(units = 10, activation= 'sigmoid')\n",
    "        self.dense2 = Dense(units=20, activation='sigmoid')\n",
    "model = TestModel()\n",
    "print(model.dense1)\n",
    "print(model.dense2)"
   ],
   "outputs": [
    {
     "output_type": "stream",
     "name": "stdout",
     "text": [
      "<tensorflow.python.keras.layers.core.Dense object at 0x7faf3c3da3d0>\n",
      "<tensorflow.python.keras.layers.core.Dense object at 0x7faf3c3da820>\n"
     ]
    }
   ],
   "metadata": {}
  },
  {
   "cell_type": "code",
   "execution_count": 21,
   "source": [
    "# forward propagation of models \n",
    "\n",
    "from tensorflow.keras.layers import Dense\n",
    "from tensorflow.keras.models import Model\n",
    "\n",
    "tf.random.set_seed(10)\n",
    "X = tf.random.normal(shape = (4, 10))\n",
    "\n",
    "# sequential method\n",
    "model = Sequential()\n",
    "model.add(Dense(units=10, activation = 'sigmoid'))\n",
    "model.add(Dense(units = 20, activation= 'sigmoid'))\n",
    "\n",
    "Y = model(X) ## 요 시점 w, b 초기화 된다. (기본은 랜덤)\n",
    "print(Y.numpy())\n",
    "\n",
    "## model-subclasssing\n",
    "class TestModel(Model):\n",
    "    def __init__(self):\n",
    "        super(TestModel, self).__init__()\n",
    "        self.dense1 = Dense(units = 10, activation='sigmoid')\n",
    "        self.dense2 = Dense(units = 20, activation='sigmoid')\n",
    "    def call(self, x): ## call은 함수를 불러오는 메써드, 호출할 때 처리되는 메써드, Model을 쓰면 call이 호출될수 있도록 함\n",
    "        x = self.dense1(x)\n",
    "        x = self.dense2(x)\n",
    "        return x\n",
    "\n",
    "model = TestModel()\n",
    "Y = model(X) ## 요 시점에서 w, b 초기화 된다. (기본은 랜덤)\n",
    "print(Y.numpy())"
   ],
   "outputs": [
    {
     "output_type": "stream",
     "name": "stdout",
     "text": [
      "[[0.55650467 0.5736378  0.5630582  0.38230422 0.5800853  0.46750382\n",
      "  0.5453265  0.57239604 0.577736   0.5092679  0.63902617 0.41740972\n",
      "  0.4959601  0.48987812 0.37868184 0.6252993  0.50767297 0.56756294\n",
      "  0.4415443  0.5643339 ]\n",
      " [0.542635   0.5824134  0.55322725 0.41820836 0.45012072 0.46044162\n",
      "  0.5349409  0.56532025 0.5037934  0.5493765  0.6248533  0.48017085\n",
      "  0.4684742  0.44895202 0.44587284 0.58404434 0.40546966 0.5525067\n",
      "  0.48883936 0.5321424 ]\n",
      " [0.5514741  0.54305255 0.5955268  0.39230984 0.49052256 0.4777674\n",
      "  0.5909605  0.60162765 0.5510731  0.53855234 0.6518259  0.36644483\n",
      "  0.46875128 0.42796102 0.42704153 0.62905306 0.47941467 0.5476874\n",
      "  0.45441562 0.5198266 ]\n",
      " [0.5501883  0.6035677  0.54334694 0.37710547 0.553181   0.46198446\n",
      "  0.5360454  0.57856405 0.5902688  0.49926516 0.6641064  0.46451893\n",
      "  0.4757576  0.51785564 0.3944179  0.58145726 0.4373687  0.54021823\n",
      "  0.46061313 0.6211433 ]]\n",
      "[[0.40813234 0.42172378 0.41616654 0.61241937 0.52082723 0.4728814\n",
      "  0.45194685 0.55067974 0.4823945  0.5269487  0.3425702  0.56788254\n",
      "  0.53683674 0.45116064 0.57737255 0.3745749  0.50302655 0.4758503\n",
      "  0.4644284  0.48717836]\n",
      " [0.39427668 0.42261708 0.4263922  0.6321027  0.58425653 0.41423166\n",
      "  0.4553509  0.5650285  0.47298378 0.5716204  0.3792034  0.5789773\n",
      "  0.55008554 0.46743047 0.6278701  0.38443872 0.4465076  0.44824985\n",
      "  0.44269803 0.4882121 ]\n",
      " [0.43187022 0.43135217 0.42389897 0.6220153  0.5373775  0.40323654\n",
      "  0.44183812 0.59052485 0.54286927 0.58611673 0.36018002 0.5679879\n",
      "  0.5985896  0.50855976 0.6440172  0.35895765 0.5113607  0.42516217\n",
      "  0.46972218 0.45307997]\n",
      " [0.34408414 0.41604787 0.37800354 0.6310612  0.550605   0.4975939\n",
      "  0.40622115 0.53566176 0.40989125 0.5805914  0.30071318 0.6019247\n",
      "  0.46417218 0.385768   0.57098013 0.35501045 0.47410986 0.41021484\n",
      "  0.43562743 0.4727015 ]]\n"
     ]
    }
   ],
   "metadata": {}
  },
  {
   "cell_type": "code",
   "execution_count": null,
   "source": [
    "## 교차엔트로피\n",
    "## MSE \n",
    "## 평균오차제곱함수\n",
    "\n",
    "# softmax\n",
    "## 교차엔트로피는 분류(원핫 인코딩을 안한 것에 대해 지원한다)\n",
    "## "
   ],
   "outputs": [],
   "metadata": {}
  }
 ],
 "metadata": {
  "orig_nbformat": 4,
  "language_info": {
   "name": "python",
   "version": "3.8.8",
   "mimetype": "text/x-python",
   "codemirror_mode": {
    "name": "ipython",
    "version": 3
   },
   "pygments_lexer": "ipython3",
   "nbconvert_exporter": "python",
   "file_extension": ".py"
  },
  "kernelspec": {
   "name": "python3",
   "display_name": "Python 3.8.8 64-bit ('base': conda)"
  },
  "interpreter": {
   "hash": "39c6663c694f66742a48c32a0de310398657a941bd026b39790ca56507cab329"
  }
 },
 "nbformat": 4,
 "nbformat_minor": 2
}