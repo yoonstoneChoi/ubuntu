{
 "cells": [
  {
   "cell_type": "markdown",
   "source": [
    "## SImple Linear Regression"
   ],
   "metadata": {}
  },
  {
   "cell_type": "code",
   "execution_count": 3,
   "source": [
    "# 데이터 셋 만들기 \n",
    "import numpy as np \n",
    "x = np.arange(1, 6 )\n",
    "y = 3 * x + 2\n",
    "print(x)\n",
    "print(y)"
   ],
   "outputs": [
    {
     "output_type": "stream",
     "name": "stdout",
     "text": [
      "[1 2 3 4 5]\n",
      "[ 5  8 11 14 17]\n"
     ]
    }
   ],
   "metadata": {}
  },
  {
   "cell_type": "code",
   "execution_count": 5,
   "source": [
    "import matplotlib.pyplot as plt \n",
    "\n",
    "plt.plot(x, y)\n",
    "plt.title(' y = 3x + b')\n",
    "plt.show()"
   ],
   "outputs": [
    {
     "output_type": "display_data",
     "data": {
      "text/plain": [
       "<Figure size 432x288 with 1 Axes>"
      ],
      "image/svg+xml": "<?xml version=\"1.0\" encoding=\"utf-8\" standalone=\"no\"?>\n<!DOCTYPE svg PUBLIC \"-//W3C//DTD SVG 1.1//EN\"\n  \"http://www.w3.org/Graphics/SVG/1.1/DTD/svg11.dtd\">\n<!-- Created with matplotlib (https://matplotlib.org/) -->\n<svg height=\"263.63625pt\" version=\"1.1\" viewBox=\"0 0 368.925 263.63625\" width=\"368.925pt\" xmlns=\"http://www.w3.org/2000/svg\" xmlns:xlink=\"http://www.w3.org/1999/xlink\">\n <metadata>\n  <rdf:RDF xmlns:cc=\"http://creativecommons.org/ns#\" xmlns:dc=\"http://purl.org/dc/elements/1.1/\" xmlns:rdf=\"http://www.w3.org/1999/02/22-rdf-syntax-ns#\">\n   <cc:Work>\n    <dc:type rdf:resource=\"http://purl.org/dc/dcmitype/StillImage\"/>\n    <dc:date>2021-08-09T17:17:10.008971</dc:date>\n    <dc:format>image/svg+xml</dc:format>\n    <dc:creator>\n     <cc:Agent>\n      <dc:title>Matplotlib v3.3.4, https://matplotlib.org/</dc:title>\n     </cc:Agent>\n    </dc:creator>\n   </cc:Work>\n  </rdf:RDF>\n </metadata>\n <defs>\n  <style type=\"text/css\">*{stroke-linecap:butt;stroke-linejoin:round;}</style>\n </defs>\n <g id=\"figure_1\">\n  <g id=\"patch_1\">\n   <path d=\"M -0 263.63625 \nL 368.925 263.63625 \nL 368.925 0 \nL -0 0 \nz\n\" style=\"fill:none;\"/>\n  </g>\n  <g id=\"axes_1\">\n   <g id=\"patch_2\">\n    <path d=\"M 26.925 239.758125 \nL 361.725 239.758125 \nL 361.725 22.318125 \nL 26.925 22.318125 \nz\n\" style=\"fill:#ffffff;\"/>\n   </g>\n   <g id=\"matplotlib.axis_1\">\n    <g id=\"xtick_1\">\n     <g id=\"line2d_1\">\n      <defs>\n       <path d=\"M 0 0 \nL 0 3.5 \n\" id=\"mf84ba9a0a1\" style=\"stroke:#000000;stroke-width:0.8;\"/>\n      </defs>\n      <g>\n       <use style=\"stroke:#000000;stroke-width:0.8;\" x=\"42.143182\" xlink:href=\"#mf84ba9a0a1\" y=\"239.758125\"/>\n      </g>\n     </g>\n     <g id=\"text_1\">\n      <!-- 1.0 -->\n      <g transform=\"translate(34.191619 254.356563)scale(0.1 -0.1)\">\n       <defs>\n        <path d=\"M 12.40625 8.296875 \nL 28.515625 8.296875 \nL 28.515625 63.921875 \nL 10.984375 60.40625 \nL 10.984375 69.390625 \nL 28.421875 72.90625 \nL 38.28125 72.90625 \nL 38.28125 8.296875 \nL 54.390625 8.296875 \nL 54.390625 0 \nL 12.40625 0 \nz\n\" id=\"DejaVuSans-49\"/>\n        <path d=\"M 10.6875 12.40625 \nL 21 12.40625 \nL 21 0 \nL 10.6875 0 \nz\n\" id=\"DejaVuSans-46\"/>\n        <path d=\"M 31.78125 66.40625 \nQ 24.171875 66.40625 20.328125 58.90625 \nQ 16.5 51.421875 16.5 36.375 \nQ 16.5 21.390625 20.328125 13.890625 \nQ 24.171875 6.390625 31.78125 6.390625 \nQ 39.453125 6.390625 43.28125 13.890625 \nQ 47.125 21.390625 47.125 36.375 \nQ 47.125 51.421875 43.28125 58.90625 \nQ 39.453125 66.40625 31.78125 66.40625 \nz\nM 31.78125 74.21875 \nQ 44.046875 74.21875 50.515625 64.515625 \nQ 56.984375 54.828125 56.984375 36.375 \nQ 56.984375 17.96875 50.515625 8.265625 \nQ 44.046875 -1.421875 31.78125 -1.421875 \nQ 19.53125 -1.421875 13.0625 8.265625 \nQ 6.59375 17.96875 6.59375 36.375 \nQ 6.59375 54.828125 13.0625 64.515625 \nQ 19.53125 74.21875 31.78125 74.21875 \nz\n\" id=\"DejaVuSans-48\"/>\n       </defs>\n       <use xlink:href=\"#DejaVuSans-49\"/>\n       <use x=\"63.623047\" xlink:href=\"#DejaVuSans-46\"/>\n       <use x=\"95.410156\" xlink:href=\"#DejaVuSans-48\"/>\n      </g>\n     </g>\n    </g>\n    <g id=\"xtick_2\">\n     <g id=\"line2d_2\">\n      <g>\n       <use style=\"stroke:#000000;stroke-width:0.8;\" x=\"80.188636\" xlink:href=\"#mf84ba9a0a1\" y=\"239.758125\"/>\n      </g>\n     </g>\n     <g id=\"text_2\">\n      <!-- 1.5 -->\n      <g transform=\"translate(72.237074 254.356563)scale(0.1 -0.1)\">\n       <defs>\n        <path d=\"M 10.796875 72.90625 \nL 49.515625 72.90625 \nL 49.515625 64.59375 \nL 19.828125 64.59375 \nL 19.828125 46.734375 \nQ 21.96875 47.46875 24.109375 47.828125 \nQ 26.265625 48.1875 28.421875 48.1875 \nQ 40.625 48.1875 47.75 41.5 \nQ 54.890625 34.8125 54.890625 23.390625 \nQ 54.890625 11.625 47.5625 5.09375 \nQ 40.234375 -1.421875 26.90625 -1.421875 \nQ 22.3125 -1.421875 17.546875 -0.640625 \nQ 12.796875 0.140625 7.71875 1.703125 \nL 7.71875 11.625 \nQ 12.109375 9.234375 16.796875 8.0625 \nQ 21.484375 6.890625 26.703125 6.890625 \nQ 35.15625 6.890625 40.078125 11.328125 \nQ 45.015625 15.765625 45.015625 23.390625 \nQ 45.015625 31 40.078125 35.4375 \nQ 35.15625 39.890625 26.703125 39.890625 \nQ 22.75 39.890625 18.8125 39.015625 \nQ 14.890625 38.140625 10.796875 36.28125 \nz\n\" id=\"DejaVuSans-53\"/>\n       </defs>\n       <use xlink:href=\"#DejaVuSans-49\"/>\n       <use x=\"63.623047\" xlink:href=\"#DejaVuSans-46\"/>\n       <use x=\"95.410156\" xlink:href=\"#DejaVuSans-53\"/>\n      </g>\n     </g>\n    </g>\n    <g id=\"xtick_3\">\n     <g id=\"line2d_3\">\n      <g>\n       <use style=\"stroke:#000000;stroke-width:0.8;\" x=\"118.234091\" xlink:href=\"#mf84ba9a0a1\" y=\"239.758125\"/>\n      </g>\n     </g>\n     <g id=\"text_3\">\n      <!-- 2.0 -->\n      <g transform=\"translate(110.282528 254.356563)scale(0.1 -0.1)\">\n       <defs>\n        <path d=\"M 19.1875 8.296875 \nL 53.609375 8.296875 \nL 53.609375 0 \nL 7.328125 0 \nL 7.328125 8.296875 \nQ 12.9375 14.109375 22.625 23.890625 \nQ 32.328125 33.6875 34.8125 36.53125 \nQ 39.546875 41.84375 41.421875 45.53125 \nQ 43.3125 49.21875 43.3125 52.78125 \nQ 43.3125 58.59375 39.234375 62.25 \nQ 35.15625 65.921875 28.609375 65.921875 \nQ 23.96875 65.921875 18.8125 64.3125 \nQ 13.671875 62.703125 7.8125 59.421875 \nL 7.8125 69.390625 \nQ 13.765625 71.78125 18.9375 73 \nQ 24.125 74.21875 28.421875 74.21875 \nQ 39.75 74.21875 46.484375 68.546875 \nQ 53.21875 62.890625 53.21875 53.421875 \nQ 53.21875 48.921875 51.53125 44.890625 \nQ 49.859375 40.875 45.40625 35.40625 \nQ 44.1875 33.984375 37.640625 27.21875 \nQ 31.109375 20.453125 19.1875 8.296875 \nz\n\" id=\"DejaVuSans-50\"/>\n       </defs>\n       <use xlink:href=\"#DejaVuSans-50\"/>\n       <use x=\"63.623047\" xlink:href=\"#DejaVuSans-46\"/>\n       <use x=\"95.410156\" xlink:href=\"#DejaVuSans-48\"/>\n      </g>\n     </g>\n    </g>\n    <g id=\"xtick_4\">\n     <g id=\"line2d_4\">\n      <g>\n       <use style=\"stroke:#000000;stroke-width:0.8;\" x=\"156.279545\" xlink:href=\"#mf84ba9a0a1\" y=\"239.758125\"/>\n      </g>\n     </g>\n     <g id=\"text_4\">\n      <!-- 2.5 -->\n      <g transform=\"translate(148.327983 254.356563)scale(0.1 -0.1)\">\n       <use xlink:href=\"#DejaVuSans-50\"/>\n       <use x=\"63.623047\" xlink:href=\"#DejaVuSans-46\"/>\n       <use x=\"95.410156\" xlink:href=\"#DejaVuSans-53\"/>\n      </g>\n     </g>\n    </g>\n    <g id=\"xtick_5\">\n     <g id=\"line2d_5\">\n      <g>\n       <use style=\"stroke:#000000;stroke-width:0.8;\" x=\"194.325\" xlink:href=\"#mf84ba9a0a1\" y=\"239.758125\"/>\n      </g>\n     </g>\n     <g id=\"text_5\">\n      <!-- 3.0 -->\n      <g transform=\"translate(186.373438 254.356563)scale(0.1 -0.1)\">\n       <defs>\n        <path d=\"M 40.578125 39.3125 \nQ 47.65625 37.796875 51.625 33 \nQ 55.609375 28.21875 55.609375 21.1875 \nQ 55.609375 10.40625 48.1875 4.484375 \nQ 40.765625 -1.421875 27.09375 -1.421875 \nQ 22.515625 -1.421875 17.65625 -0.515625 \nQ 12.796875 0.390625 7.625 2.203125 \nL 7.625 11.71875 \nQ 11.71875 9.328125 16.59375 8.109375 \nQ 21.484375 6.890625 26.8125 6.890625 \nQ 36.078125 6.890625 40.9375 10.546875 \nQ 45.796875 14.203125 45.796875 21.1875 \nQ 45.796875 27.640625 41.28125 31.265625 \nQ 36.765625 34.90625 28.71875 34.90625 \nL 20.21875 34.90625 \nL 20.21875 43.015625 \nL 29.109375 43.015625 \nQ 36.375 43.015625 40.234375 45.921875 \nQ 44.09375 48.828125 44.09375 54.296875 \nQ 44.09375 59.90625 40.109375 62.90625 \nQ 36.140625 65.921875 28.71875 65.921875 \nQ 24.65625 65.921875 20.015625 65.03125 \nQ 15.375 64.15625 9.8125 62.3125 \nL 9.8125 71.09375 \nQ 15.4375 72.65625 20.34375 73.4375 \nQ 25.25 74.21875 29.59375 74.21875 \nQ 40.828125 74.21875 47.359375 69.109375 \nQ 53.90625 64.015625 53.90625 55.328125 \nQ 53.90625 49.265625 50.4375 45.09375 \nQ 46.96875 40.921875 40.578125 39.3125 \nz\n\" id=\"DejaVuSans-51\"/>\n       </defs>\n       <use xlink:href=\"#DejaVuSans-51\"/>\n       <use x=\"63.623047\" xlink:href=\"#DejaVuSans-46\"/>\n       <use x=\"95.410156\" xlink:href=\"#DejaVuSans-48\"/>\n      </g>\n     </g>\n    </g>\n    <g id=\"xtick_6\">\n     <g id=\"line2d_6\">\n      <g>\n       <use style=\"stroke:#000000;stroke-width:0.8;\" x=\"232.370455\" xlink:href=\"#mf84ba9a0a1\" y=\"239.758125\"/>\n      </g>\n     </g>\n     <g id=\"text_6\">\n      <!-- 3.5 -->\n      <g transform=\"translate(224.418892 254.356563)scale(0.1 -0.1)\">\n       <use xlink:href=\"#DejaVuSans-51\"/>\n       <use x=\"63.623047\" xlink:href=\"#DejaVuSans-46\"/>\n       <use x=\"95.410156\" xlink:href=\"#DejaVuSans-53\"/>\n      </g>\n     </g>\n    </g>\n    <g id=\"xtick_7\">\n     <g id=\"line2d_7\">\n      <g>\n       <use style=\"stroke:#000000;stroke-width:0.8;\" x=\"270.415909\" xlink:href=\"#mf84ba9a0a1\" y=\"239.758125\"/>\n      </g>\n     </g>\n     <g id=\"text_7\">\n      <!-- 4.0 -->\n      <g transform=\"translate(262.464347 254.356563)scale(0.1 -0.1)\">\n       <defs>\n        <path d=\"M 37.796875 64.3125 \nL 12.890625 25.390625 \nL 37.796875 25.390625 \nz\nM 35.203125 72.90625 \nL 47.609375 72.90625 \nL 47.609375 25.390625 \nL 58.015625 25.390625 \nL 58.015625 17.1875 \nL 47.609375 17.1875 \nL 47.609375 0 \nL 37.796875 0 \nL 37.796875 17.1875 \nL 4.890625 17.1875 \nL 4.890625 26.703125 \nz\n\" id=\"DejaVuSans-52\"/>\n       </defs>\n       <use xlink:href=\"#DejaVuSans-52\"/>\n       <use x=\"63.623047\" xlink:href=\"#DejaVuSans-46\"/>\n       <use x=\"95.410156\" xlink:href=\"#DejaVuSans-48\"/>\n      </g>\n     </g>\n    </g>\n    <g id=\"xtick_8\">\n     <g id=\"line2d_8\">\n      <g>\n       <use style=\"stroke:#000000;stroke-width:0.8;\" x=\"308.461364\" xlink:href=\"#mf84ba9a0a1\" y=\"239.758125\"/>\n      </g>\n     </g>\n     <g id=\"text_8\">\n      <!-- 4.5 -->\n      <g transform=\"translate(300.509801 254.356563)scale(0.1 -0.1)\">\n       <use xlink:href=\"#DejaVuSans-52\"/>\n       <use x=\"63.623047\" xlink:href=\"#DejaVuSans-46\"/>\n       <use x=\"95.410156\" xlink:href=\"#DejaVuSans-53\"/>\n      </g>\n     </g>\n    </g>\n    <g id=\"xtick_9\">\n     <g id=\"line2d_9\">\n      <g>\n       <use style=\"stroke:#000000;stroke-width:0.8;\" x=\"346.506818\" xlink:href=\"#mf84ba9a0a1\" y=\"239.758125\"/>\n      </g>\n     </g>\n     <g id=\"text_9\">\n      <!-- 5.0 -->\n      <g transform=\"translate(338.555256 254.356563)scale(0.1 -0.1)\">\n       <use xlink:href=\"#DejaVuSans-53\"/>\n       <use x=\"63.623047\" xlink:href=\"#DejaVuSans-46\"/>\n       <use x=\"95.410156\" xlink:href=\"#DejaVuSans-48\"/>\n      </g>\n     </g>\n    </g>\n   </g>\n   <g id=\"matplotlib.axis_2\">\n    <g id=\"ytick_1\">\n     <g id=\"line2d_10\">\n      <defs>\n       <path d=\"M 0 0 \nL -3.5 0 \n\" id=\"m7ddd478dbd\" style=\"stroke:#000000;stroke-width:0.8;\"/>\n      </defs>\n      <g>\n       <use style=\"stroke:#000000;stroke-width:0.8;\" x=\"26.925\" xlink:href=\"#m7ddd478dbd\" y=\"213.401761\"/>\n      </g>\n     </g>\n     <g id=\"text_10\">\n      <!-- 6 -->\n      <g transform=\"translate(13.5625 217.20098)scale(0.1 -0.1)\">\n       <defs>\n        <path d=\"M 33.015625 40.375 \nQ 26.375 40.375 22.484375 35.828125 \nQ 18.609375 31.296875 18.609375 23.390625 \nQ 18.609375 15.53125 22.484375 10.953125 \nQ 26.375 6.390625 33.015625 6.390625 \nQ 39.65625 6.390625 43.53125 10.953125 \nQ 47.40625 15.53125 47.40625 23.390625 \nQ 47.40625 31.296875 43.53125 35.828125 \nQ 39.65625 40.375 33.015625 40.375 \nz\nM 52.59375 71.296875 \nL 52.59375 62.3125 \nQ 48.875 64.0625 45.09375 64.984375 \nQ 41.3125 65.921875 37.59375 65.921875 \nQ 27.828125 65.921875 22.671875 59.328125 \nQ 17.53125 52.734375 16.796875 39.40625 \nQ 19.671875 43.65625 24.015625 45.921875 \nQ 28.375 48.1875 33.59375 48.1875 \nQ 44.578125 48.1875 50.953125 41.515625 \nQ 57.328125 34.859375 57.328125 23.390625 \nQ 57.328125 12.15625 50.6875 5.359375 \nQ 44.046875 -1.421875 33.015625 -1.421875 \nQ 20.359375 -1.421875 13.671875 8.265625 \nQ 6.984375 17.96875 6.984375 36.375 \nQ 6.984375 53.65625 15.1875 63.9375 \nQ 23.390625 74.21875 37.203125 74.21875 \nQ 40.921875 74.21875 44.703125 73.484375 \nQ 48.484375 72.75 52.59375 71.296875 \nz\n\" id=\"DejaVuSans-54\"/>\n       </defs>\n       <use xlink:href=\"#DejaVuSans-54\"/>\n      </g>\n     </g>\n    </g>\n    <g id=\"ytick_2\">\n     <g id=\"line2d_11\">\n      <g>\n       <use style=\"stroke:#000000;stroke-width:0.8;\" x=\"26.925\" xlink:href=\"#m7ddd478dbd\" y=\"180.456307\"/>\n      </g>\n     </g>\n     <g id=\"text_11\">\n      <!-- 8 -->\n      <g transform=\"translate(13.5625 184.255526)scale(0.1 -0.1)\">\n       <defs>\n        <path d=\"M 31.78125 34.625 \nQ 24.75 34.625 20.71875 30.859375 \nQ 16.703125 27.09375 16.703125 20.515625 \nQ 16.703125 13.921875 20.71875 10.15625 \nQ 24.75 6.390625 31.78125 6.390625 \nQ 38.8125 6.390625 42.859375 10.171875 \nQ 46.921875 13.96875 46.921875 20.515625 \nQ 46.921875 27.09375 42.890625 30.859375 \nQ 38.875 34.625 31.78125 34.625 \nz\nM 21.921875 38.8125 \nQ 15.578125 40.375 12.03125 44.71875 \nQ 8.5 49.078125 8.5 55.328125 \nQ 8.5 64.0625 14.71875 69.140625 \nQ 20.953125 74.21875 31.78125 74.21875 \nQ 42.671875 74.21875 48.875 69.140625 \nQ 55.078125 64.0625 55.078125 55.328125 \nQ 55.078125 49.078125 51.53125 44.71875 \nQ 48 40.375 41.703125 38.8125 \nQ 48.828125 37.15625 52.796875 32.3125 \nQ 56.78125 27.484375 56.78125 20.515625 \nQ 56.78125 9.90625 50.3125 4.234375 \nQ 43.84375 -1.421875 31.78125 -1.421875 \nQ 19.734375 -1.421875 13.25 4.234375 \nQ 6.78125 9.90625 6.78125 20.515625 \nQ 6.78125 27.484375 10.78125 32.3125 \nQ 14.796875 37.15625 21.921875 38.8125 \nz\nM 18.3125 54.390625 \nQ 18.3125 48.734375 21.84375 45.5625 \nQ 25.390625 42.390625 31.78125 42.390625 \nQ 38.140625 42.390625 41.71875 45.5625 \nQ 45.3125 48.734375 45.3125 54.390625 \nQ 45.3125 60.0625 41.71875 63.234375 \nQ 38.140625 66.40625 31.78125 66.40625 \nQ 25.390625 66.40625 21.84375 63.234375 \nQ 18.3125 60.0625 18.3125 54.390625 \nz\n\" id=\"DejaVuSans-56\"/>\n       </defs>\n       <use xlink:href=\"#DejaVuSans-56\"/>\n      </g>\n     </g>\n    </g>\n    <g id=\"ytick_3\">\n     <g id=\"line2d_12\">\n      <g>\n       <use style=\"stroke:#000000;stroke-width:0.8;\" x=\"26.925\" xlink:href=\"#m7ddd478dbd\" y=\"147.510852\"/>\n      </g>\n     </g>\n     <g id=\"text_12\">\n      <!-- 10 -->\n      <g transform=\"translate(7.2 151.310071)scale(0.1 -0.1)\">\n       <use xlink:href=\"#DejaVuSans-49\"/>\n       <use x=\"63.623047\" xlink:href=\"#DejaVuSans-48\"/>\n      </g>\n     </g>\n    </g>\n    <g id=\"ytick_4\">\n     <g id=\"line2d_13\">\n      <g>\n       <use style=\"stroke:#000000;stroke-width:0.8;\" x=\"26.925\" xlink:href=\"#m7ddd478dbd\" y=\"114.565398\"/>\n      </g>\n     </g>\n     <g id=\"text_13\">\n      <!-- 12 -->\n      <g transform=\"translate(7.2 118.364616)scale(0.1 -0.1)\">\n       <use xlink:href=\"#DejaVuSans-49\"/>\n       <use x=\"63.623047\" xlink:href=\"#DejaVuSans-50\"/>\n      </g>\n     </g>\n    </g>\n    <g id=\"ytick_5\">\n     <g id=\"line2d_14\">\n      <g>\n       <use style=\"stroke:#000000;stroke-width:0.8;\" x=\"26.925\" xlink:href=\"#m7ddd478dbd\" y=\"81.619943\"/>\n      </g>\n     </g>\n     <g id=\"text_14\">\n      <!-- 14 -->\n      <g transform=\"translate(7.2 85.419162)scale(0.1 -0.1)\">\n       <use xlink:href=\"#DejaVuSans-49\"/>\n       <use x=\"63.623047\" xlink:href=\"#DejaVuSans-52\"/>\n      </g>\n     </g>\n    </g>\n    <g id=\"ytick_6\">\n     <g id=\"line2d_15\">\n      <g>\n       <use style=\"stroke:#000000;stroke-width:0.8;\" x=\"26.925\" xlink:href=\"#m7ddd478dbd\" y=\"48.674489\"/>\n      </g>\n     </g>\n     <g id=\"text_15\">\n      <!-- 16 -->\n      <g transform=\"translate(7.2 52.473707)scale(0.1 -0.1)\">\n       <use xlink:href=\"#DejaVuSans-49\"/>\n       <use x=\"63.623047\" xlink:href=\"#DejaVuSans-54\"/>\n      </g>\n     </g>\n    </g>\n   </g>\n   <g id=\"line2d_16\">\n    <path clip-path=\"url(#pcb8079ed1e)\" d=\"M 42.143182 229.874489 \nL 118.234091 180.456307 \nL 194.325 131.038125 \nL 270.415909 81.619943 \nL 346.506818 32.201761 \n\" style=\"fill:none;stroke:#1f77b4;stroke-linecap:square;stroke-width:1.5;\"/>\n   </g>\n   <g id=\"patch_3\">\n    <path d=\"M 26.925 239.758125 \nL 26.925 22.318125 \n\" style=\"fill:none;stroke:#000000;stroke-linecap:square;stroke-linejoin:miter;stroke-width:0.8;\"/>\n   </g>\n   <g id=\"patch_4\">\n    <path d=\"M 361.725 239.758125 \nL 361.725 22.318125 \n\" style=\"fill:none;stroke:#000000;stroke-linecap:square;stroke-linejoin:miter;stroke-width:0.8;\"/>\n   </g>\n   <g id=\"patch_5\">\n    <path d=\"M 26.925 239.758125 \nL 361.725 239.758125 \n\" style=\"fill:none;stroke:#000000;stroke-linecap:square;stroke-linejoin:miter;stroke-width:0.8;\"/>\n   </g>\n   <g id=\"patch_6\">\n    <path d=\"M 26.925 22.318125 \nL 361.725 22.318125 \n\" style=\"fill:none;stroke:#000000;stroke-linecap:square;stroke-linejoin:miter;stroke-width:0.8;\"/>\n   </g>\n   <g id=\"text_16\">\n    <!--  y = 3x + b -->\n    <g transform=\"translate(160.005938 16.318125)scale(0.12 -0.12)\">\n     <defs>\n      <path id=\"DejaVuSans-32\"/>\n      <path d=\"M 32.171875 -5.078125 \nQ 28.375 -14.84375 24.75 -17.8125 \nQ 21.140625 -20.796875 15.09375 -20.796875 \nL 7.90625 -20.796875 \nL 7.90625 -13.28125 \nL 13.1875 -13.28125 \nQ 16.890625 -13.28125 18.9375 -11.515625 \nQ 21 -9.765625 23.484375 -3.21875 \nL 25.09375 0.875 \nL 2.984375 54.6875 \nL 12.5 54.6875 \nL 29.59375 11.921875 \nL 46.6875 54.6875 \nL 56.203125 54.6875 \nz\n\" id=\"DejaVuSans-121\"/>\n      <path d=\"M 10.59375 45.40625 \nL 73.1875 45.40625 \nL 73.1875 37.203125 \nL 10.59375 37.203125 \nz\nM 10.59375 25.484375 \nL 73.1875 25.484375 \nL 73.1875 17.1875 \nL 10.59375 17.1875 \nz\n\" id=\"DejaVuSans-61\"/>\n      <path d=\"M 54.890625 54.6875 \nL 35.109375 28.078125 \nL 55.90625 0 \nL 45.3125 0 \nL 29.390625 21.484375 \nL 13.484375 0 \nL 2.875 0 \nL 24.125 28.609375 \nL 4.6875 54.6875 \nL 15.28125 54.6875 \nL 29.78125 35.203125 \nL 44.28125 54.6875 \nz\n\" id=\"DejaVuSans-120\"/>\n      <path d=\"M 46 62.703125 \nL 46 35.5 \nL 73.1875 35.5 \nL 73.1875 27.203125 \nL 46 27.203125 \nL 46 0 \nL 37.796875 0 \nL 37.796875 27.203125 \nL 10.59375 27.203125 \nL 10.59375 35.5 \nL 37.796875 35.5 \nL 37.796875 62.703125 \nz\n\" id=\"DejaVuSans-43\"/>\n      <path d=\"M 48.6875 27.296875 \nQ 48.6875 37.203125 44.609375 42.84375 \nQ 40.53125 48.484375 33.40625 48.484375 \nQ 26.265625 48.484375 22.1875 42.84375 \nQ 18.109375 37.203125 18.109375 27.296875 \nQ 18.109375 17.390625 22.1875 11.75 \nQ 26.265625 6.109375 33.40625 6.109375 \nQ 40.53125 6.109375 44.609375 11.75 \nQ 48.6875 17.390625 48.6875 27.296875 \nz\nM 18.109375 46.390625 \nQ 20.953125 51.265625 25.265625 53.625 \nQ 29.59375 56 35.59375 56 \nQ 45.5625 56 51.78125 48.09375 \nQ 58.015625 40.1875 58.015625 27.296875 \nQ 58.015625 14.40625 51.78125 6.484375 \nQ 45.5625 -1.421875 35.59375 -1.421875 \nQ 29.59375 -1.421875 25.265625 0.953125 \nQ 20.953125 3.328125 18.109375 8.203125 \nL 18.109375 0 \nL 9.078125 0 \nL 9.078125 75.984375 \nL 18.109375 75.984375 \nz\n\" id=\"DejaVuSans-98\"/>\n     </defs>\n     <use xlink:href=\"#DejaVuSans-32\"/>\n     <use x=\"31.787109\" xlink:href=\"#DejaVuSans-121\"/>\n     <use x=\"90.966797\" xlink:href=\"#DejaVuSans-32\"/>\n     <use x=\"122.753906\" xlink:href=\"#DejaVuSans-61\"/>\n     <use x=\"206.542969\" xlink:href=\"#DejaVuSans-32\"/>\n     <use x=\"238.330078\" xlink:href=\"#DejaVuSans-51\"/>\n     <use x=\"301.953125\" xlink:href=\"#DejaVuSans-120\"/>\n     <use x=\"361.132812\" xlink:href=\"#DejaVuSans-32\"/>\n     <use x=\"392.919922\" xlink:href=\"#DejaVuSans-43\"/>\n     <use x=\"476.708984\" xlink:href=\"#DejaVuSans-32\"/>\n     <use x=\"508.496094\" xlink:href=\"#DejaVuSans-98\"/>\n    </g>\n   </g>\n  </g>\n </g>\n <defs>\n  <clipPath id=\"pcb8079ed1e\">\n   <rect height=\"217.44\" width=\"334.8\" x=\"26.925\" y=\"22.318125\"/>\n  </clipPath>\n </defs>\n</svg>\n",
      "image/png": "[encoded data removed]"
     },
     "metadata": {
      "needs_background": "light"
     }
    }
   ],
   "metadata": {}
  },
  {
   "cell_type": "code",
   "execution_count": 6,
   "source": [
    "import tensorflow as tf\n",
    "model = tf.keras.Sequential()\n",
    "\n",
    "neuron_n = [10, 5, 1]\n",
    "\n",
    "for neuron in neuron_n:\n",
    "    model.add(tf.keras.layers.Dense(neuron))\n",
    "\n",
    "#model.add(tf.keras.layers.Dense(10))\n",
    "#model.add(tf.keras.layers.dense(5))\n",
    "#model.add(tf.keras.layers.dense(1))\n"
   ],
   "outputs": [],
   "metadata": {}
  },
  {
   "cell_type": "code",
   "execution_count": 7,
   "source": [
    "# 단순 선형회귀 모델 생성\n",
    "model = tf.keras.Sequential([tf.keras.layers.Dense(1, input_shape = [1])])"
   ],
   "outputs": [],
   "metadata": {}
  },
  {
   "cell_type": "code",
   "execution_count": 8,
   "source": [
    "## 모델 요약\n",
    "model.summary()"
   ],
   "outputs": [
    {
     "output_type": "stream",
     "name": "stdout",
     "text": [
      "Model: \"sequential_1\"\n",
      "_________________________________________________________________\n",
      "Layer (type)                 Output Shape              Param #   \n",
      "=================================================================\n",
      "dense_3 (Dense)              (None, 1)                 2         \n",
      "=================================================================\n",
      "Total params: 2\n",
      "Trainable params: 2\n",
      "Non-trainable params: 0\n",
      "_________________________________________________________________\n"
     ]
    }
   ],
   "metadata": {}
  },
  {
   "cell_type": "code",
   "execution_count": 9,
   "source": [
    "model.compile(optimizer='sgd', loss = 'mse', metrics = ['mse', 'mae'])\n"
   ],
   "outputs": [],
   "metadata": {}
  },
  {
   "cell_type": "code",
   "execution_count": 12,
   "source": [
    "model.compile(optimizer=tf.keras.optimizers.SGD(lr = 0.005),\n",
    "        loss = tf.keras.losses.MeanAbsoluteError(),\n",
    "        metrics=[tf.keras.metrics.MeanAbsoluteError(), \n",
    "                tf.keras.metrics.MeanSquaredLogarithmicError()])"
   ],
   "outputs": [],
   "metadata": {}
  },
  {
   "cell_type": "code",
   "execution_count": 13,
   "source": [
    "model.compile(optimizer='sgd', loss = 'mse', metrics=['mse', 'mae'])\n",
    "history = model.fit(x, y, epochs=200)"
   ],
   "outputs": [
    {
     "output_type": "stream",
     "name": "stdout",
     "text": [
      "Epoch 1/200\n",
      "1/1 [==============================] - 0s 498ms/step - loss: 63.2315 - mse: 63.2315 - mae: 7.5148\n",
      "Epoch 2/200\n",
      "1/1 [==============================] - 0s 3ms/step - loss: 36.9914 - mse: 36.9914 - mae: 5.7913\n",
      "Epoch 3/200\n",
      "1/1 [==============================] - 0s 7ms/step - loss: 21.6991 - mse: 21.6991 - mae: 4.4754\n",
      "Epoch 4/200\n",
      "1/1 [==============================] - 0s 4ms/step - loss: 12.7865 - mse: 12.7865 - mae: 3.4706\n",
      "Epoch 5/200\n",
      "1/1 [==============================] - 0s 3ms/step - loss: 7.5917 - mse: 7.5917 - mae: 2.7035\n",
      "Epoch 6/200\n",
      "1/1 [==============================] - 0s 8ms/step - loss: 4.5635 - mse: 4.5635 - mae: 2.1176\n",
      "Epoch 7/200\n",
      "1/1 [==============================] - 0s 11ms/step - loss: 2.7978 - mse: 2.7978 - mae: 1.6702\n",
      "Epoch 8/200\n",
      "1/1 [==============================] - 0s 13ms/step - loss: 1.7680 - mse: 1.7680 - mae: 1.3285\n",
      "Epoch 9/200\n",
      "1/1 [==============================] - 0s 31ms/step - loss: 1.1669 - mse: 1.1669 - mae: 1.0675\n",
      "Epoch 10/200\n",
      "1/1 [==============================] - 0s 20ms/step - loss: 0.8157 - mse: 0.8157 - mae: 0.8680\n",
      "Epoch 11/200\n",
      "1/1 [==============================] - 0s 27ms/step - loss: 0.6101 - mse: 0.6101 - mae: 0.7156\n",
      "Epoch 12/200\n",
      "1/1 [==============================] - 0s 11ms/step - loss: 0.4894 - mse: 0.4894 - mae: 0.5990\n",
      "Epoch 13/200\n",
      "1/1 [==============================] - 0s 9ms/step - loss: 0.4182 - mse: 0.4182 - mae: 0.5309\n",
      "Epoch 14/200\n",
      "1/1 [==============================] - 0s 19ms/step - loss: 0.3757 - mse: 0.3757 - mae: 0.5054\n",
      "Epoch 15/200\n",
      "1/1 [==============================] - 0s 15ms/step - loss: 0.3501 - mse: 0.3501 - mae: 0.4857\n",
      "Epoch 16/200\n",
      "1/1 [==============================] - 0s 18ms/step - loss: 0.3343 - mse: 0.3343 - mae: 0.4702\n",
      "Epoch 17/200\n",
      "1/1 [==============================] - 0s 19ms/step - loss: 0.3242 - mse: 0.3242 - mae: 0.4642\n",
      "Epoch 18/200\n",
      "1/1 [==============================] - 0s 26ms/step - loss: 0.3175 - mse: 0.3175 - mae: 0.4664\n",
      "Epoch 19/200\n",
      "1/1 [==============================] - 0s 10ms/step - loss: 0.3127 - mse: 0.3127 - mae: 0.4677\n",
      "Epoch 20/200\n",
      "1/1 [==============================] - 0s 14ms/step - loss: 0.3090 - mse: 0.3090 - mae: 0.4683\n",
      "Epoch 21/200\n",
      "1/1 [==============================] - 0s 23ms/step - loss: 0.3060 - mse: 0.3060 - mae: 0.4684\n",
      "Epoch 22/200\n",
      "1/1 [==============================] - 0s 18ms/step - loss: 0.3034 - mse: 0.3034 - mae: 0.4680\n",
      "Epoch 23/200\n",
      "1/1 [==============================] - 0s 11ms/step - loss: 0.3011 - mse: 0.3011 - mae: 0.4674\n",
      "Epoch 24/200\n",
      "1/1 [==============================] - 0s 19ms/step - loss: 0.2989 - mse: 0.2989 - mae: 0.4666\n",
      "Epoch 25/200\n",
      "1/1 [==============================] - 0s 17ms/step - loss: 0.2967 - mse: 0.2967 - mae: 0.4656\n",
      "Epoch 26/200\n",
      "1/1 [==============================] - 0s 16ms/step - loss: 0.2947 - mse: 0.2947 - mae: 0.4644\n",
      "Epoch 27/200\n",
      "1/1 [==============================] - 0s 9ms/step - loss: 0.2927 - mse: 0.2927 - mae: 0.4632\n",
      "Epoch 28/200\n",
      "1/1 [==============================] - 0s 15ms/step - loss: 0.2907 - mse: 0.2907 - mae: 0.4619\n",
      "Epoch 29/200\n",
      "1/1 [==============================] - 0s 14ms/step - loss: 0.2887 - mse: 0.2887 - mae: 0.4605\n",
      "Epoch 30/200\n",
      "1/1 [==============================] - 0s 10ms/step - loss: 0.2867 - mse: 0.2867 - mae: 0.4591\n",
      "Epoch 31/200\n",
      "1/1 [==============================] - 0s 15ms/step - loss: 0.2848 - mse: 0.2848 - mae: 0.4577\n",
      "Epoch 32/200\n",
      "1/1 [==============================] - 0s 10ms/step - loss: 0.2829 - mse: 0.2829 - mae: 0.4562\n",
      "Epoch 33/200\n",
      "1/1 [==============================] - 0s 33ms/step - loss: 0.2810 - mse: 0.2810 - mae: 0.4547\n",
      "Epoch 34/200\n",
      "1/1 [==============================] - 0s 18ms/step - loss: 0.2791 - mse: 0.2791 - mae: 0.4532\n",
      "Epoch 35/200\n",
      "1/1 [==============================] - 0s 24ms/step - loss: 0.2772 - mse: 0.2772 - mae: 0.4518\n",
      "Epoch 36/200\n",
      "1/1 [==============================] - 0s 17ms/step - loss: 0.2753 - mse: 0.2753 - mae: 0.4503\n",
      "Epoch 37/200\n",
      "1/1 [==============================] - 0s 12ms/step - loss: 0.2734 - mse: 0.2734 - mae: 0.4488\n",
      "Epoch 38/200\n",
      "1/1 [==============================] - 0s 15ms/step - loss: 0.2716 - mse: 0.2716 - mae: 0.4473\n",
      "Epoch 39/200\n",
      "1/1 [==============================] - 0s 5ms/step - loss: 0.2698 - mse: 0.2698 - mae: 0.4458\n",
      "Epoch 40/200\n",
      "1/1 [==============================] - 0s 6ms/step - loss: 0.2679 - mse: 0.2679 - mae: 0.4443\n",
      "Epoch 41/200\n",
      "1/1 [==============================] - 0s 16ms/step - loss: 0.2661 - mse: 0.2661 - mae: 0.4428\n",
      "Epoch 42/200\n",
      "1/1 [==============================] - 0s 15ms/step - loss: 0.2643 - mse: 0.2643 - mae: 0.4413\n",
      "Epoch 43/200\n",
      "1/1 [==============================] - 0s 10ms/step - loss: 0.2625 - mse: 0.2625 - mae: 0.4398\n",
      "Epoch 44/200\n",
      "1/1 [==============================] - 0s 15ms/step - loss: 0.2608 - mse: 0.2608 - mae: 0.4383\n",
      "Epoch 45/200\n",
      "1/1 [==============================] - 0s 32ms/step - loss: 0.2590 - mse: 0.2590 - mae: 0.4368\n",
      "Epoch 46/200\n",
      "1/1 [==============================] - 0s 8ms/step - loss: 0.2573 - mse: 0.2573 - mae: 0.4353\n",
      "Epoch 47/200\n",
      "1/1 [==============================] - 0s 15ms/step - loss: 0.2555 - mse: 0.2555 - mae: 0.4339\n",
      "Epoch 48/200\n",
      "1/1 [==============================] - 0s 6ms/step - loss: 0.2538 - mse: 0.2538 - mae: 0.4324\n",
      "Epoch 49/200\n",
      "1/1 [==============================] - 0s 15ms/step - loss: 0.2521 - mse: 0.2521 - mae: 0.4310\n",
      "Epoch 50/200\n",
      "1/1 [==============================] - 0s 23ms/step - loss: 0.2504 - mse: 0.2504 - mae: 0.4295\n",
      "Epoch 51/200\n",
      "1/1 [==============================] - 0s 19ms/step - loss: 0.2487 - mse: 0.2487 - mae: 0.4280\n",
      "Epoch 52/200\n",
      "1/1 [==============================] - 0s 17ms/step - loss: 0.2470 - mse: 0.2470 - mae: 0.4266\n",
      "Epoch 53/200\n",
      "1/1 [==============================] - 0s 17ms/step - loss: 0.2454 - mse: 0.2454 - mae: 0.4252\n",
      "Epoch 54/200\n",
      "1/1 [==============================] - 0s 14ms/step - loss: 0.2437 - mse: 0.2437 - mae: 0.4237\n",
      "Epoch 55/200\n",
      "1/1 [==============================] - 0s 25ms/step - loss: 0.2421 - mse: 0.2421 - mae: 0.4223\n",
      "Epoch 56/200\n",
      "1/1 [==============================] - 0s 14ms/step - loss: 0.2404 - mse: 0.2404 - mae: 0.4209\n",
      "Epoch 57/200\n",
      "1/1 [==============================] - 0s 22ms/step - loss: 0.2388 - mse: 0.2388 - mae: 0.4194\n",
      "Epoch 58/200\n",
      "1/1 [==============================] - 0s 20ms/step - loss: 0.2372 - mse: 0.2372 - mae: 0.4180\n",
      "Epoch 59/200\n",
      "1/1 [==============================] - 0s 10ms/step - loss: 0.2356 - mse: 0.2356 - mae: 0.4166\n",
      "Epoch 60/200\n",
      "1/1 [==============================] - 0s 23ms/step - loss: 0.2340 - mse: 0.2340 - mae: 0.4152\n",
      "Epoch 61/200\n",
      "1/1 [==============================] - 0s 6ms/step - loss: 0.2324 - mse: 0.2324 - mae: 0.4138\n",
      "Epoch 62/200\n",
      "1/1 [==============================] - 0s 2ms/step - loss: 0.2308 - mse: 0.2308 - mae: 0.4124\n",
      "Epoch 63/200\n",
      "1/1 [==============================] - 0s 11ms/step - loss: 0.2293 - mse: 0.2293 - mae: 0.4110\n",
      "Epoch 64/200\n",
      "1/1 [==============================] - 0s 10ms/step - loss: 0.2277 - mse: 0.2277 - mae: 0.4096\n",
      "Epoch 65/200\n",
      "1/1 [==============================] - 0s 19ms/step - loss: 0.2262 - mse: 0.2262 - mae: 0.4082\n",
      "Epoch 66/200\n",
      "1/1 [==============================] - 0s 7ms/step - loss: 0.2247 - mse: 0.2247 - mae: 0.4068\n",
      "Epoch 67/200\n",
      "1/1 [==============================] - 0s 16ms/step - loss: 0.2232 - mse: 0.2232 - mae: 0.4055\n",
      "Epoch 68/200\n",
      "1/1 [==============================] - 0s 11ms/step - loss: 0.2217 - mse: 0.2217 - mae: 0.4041\n",
      "Epoch 69/200\n",
      "1/1 [==============================] - 0s 9ms/step - loss: 0.2202 - mse: 0.2202 - mae: 0.4027\n",
      "Epoch 70/200\n",
      "1/1 [==============================] - 0s 16ms/step - loss: 0.2187 - mse: 0.2187 - mae: 0.4014\n",
      "Epoch 71/200\n",
      "1/1 [==============================] - 0s 3ms/step - loss: 0.2172 - mse: 0.2172 - mae: 0.4000\n",
      "Epoch 72/200\n",
      "1/1 [==============================] - 0s 9ms/step - loss: 0.2157 - mse: 0.2157 - mae: 0.3987\n",
      "Epoch 73/200\n",
      "1/1 [==============================] - 0s 8ms/step - loss: 0.2143 - mse: 0.2143 - mae: 0.3973\n",
      "Epoch 74/200\n",
      "1/1 [==============================] - 0s 8ms/step - loss: 0.2128 - mse: 0.2128 - mae: 0.3960\n",
      "Epoch 75/200\n",
      "1/1 [==============================] - 0s 22ms/step - loss: 0.2114 - mse: 0.2114 - mae: 0.3946\n",
      "Epoch 76/200\n",
      "1/1 [==============================] - 0s 11ms/step - loss: 0.2100 - mse: 0.2100 - mae: 0.3933\n",
      "Epoch 77/200\n",
      "1/1 [==============================] - 0s 14ms/step - loss: 0.2085 - mse: 0.2085 - mae: 0.3920\n",
      "Epoch 78/200\n",
      "1/1 [==============================] - 0s 3ms/step - loss: 0.2071 - mse: 0.2071 - mae: 0.3906\n",
      "Epoch 79/200\n",
      "1/1 [==============================] - 0s 9ms/step - loss: 0.2057 - mse: 0.2057 - mae: 0.3893\n",
      "Epoch 80/200\n",
      "1/1 [==============================] - 0s 13ms/step - loss: 0.2043 - mse: 0.2043 - mae: 0.3880\n",
      "Epoch 81/200\n",
      "1/1 [==============================] - 0s 3ms/step - loss: 0.2030 - mse: 0.2030 - mae: 0.3867\n",
      "Epoch 82/200\n",
      "1/1 [==============================] - 0s 2ms/step - loss: 0.2016 - mse: 0.2016 - mae: 0.3854\n",
      "Epoch 83/200\n",
      "1/1 [==============================] - 0s 13ms/step - loss: 0.2002 - mse: 0.2002 - mae: 0.3841\n",
      "Epoch 84/200\n",
      "1/1 [==============================] - 0s 14ms/step - loss: 0.1989 - mse: 0.1989 - mae: 0.3828\n",
      "Epoch 85/200\n",
      "1/1 [==============================] - 0s 40ms/step - loss: 0.1975 - mse: 0.1975 - mae: 0.3815\n",
      "Epoch 86/200\n",
      "1/1 [==============================] - 0s 16ms/step - loss: 0.1962 - mse: 0.1962 - mae: 0.3802\n",
      "Epoch 87/200\n",
      "1/1 [==============================] - 0s 5ms/step - loss: 0.1949 - mse: 0.1949 - mae: 0.3789\n",
      "Epoch 88/200\n",
      "1/1 [==============================] - 0s 14ms/step - loss: 0.1936 - mse: 0.1936 - mae: 0.3776\n",
      "Epoch 89/200\n",
      "1/1 [==============================] - 0s 57ms/step - loss: 0.1923 - mse: 0.1923 - mae: 0.3764\n",
      "Epoch 90/200\n",
      "1/1 [==============================] - 0s 2ms/step - loss: 0.1910 - mse: 0.1910 - mae: 0.3751\n",
      "Epoch 91/200\n",
      "1/1 [==============================] - 0s 32ms/step - loss: 0.1897 - mse: 0.1897 - mae: 0.3738\n",
      "Epoch 92/200\n",
      "1/1 [==============================] - 0s 34ms/step - loss: 0.1884 - mse: 0.1884 - mae: 0.3726\n",
      "Epoch 93/200\n",
      "1/1 [==============================] - 0s 48ms/step - loss: 0.1871 - mse: 0.1871 - mae: 0.3713\n",
      "Epoch 94/200\n",
      "1/1 [==============================] - 0s 18ms/step - loss: 0.1859 - mse: 0.1859 - mae: 0.3700\n",
      "Epoch 95/200\n",
      "1/1 [==============================] - 0s 14ms/step - loss: 0.1846 - mse: 0.1846 - mae: 0.3688\n",
      "Epoch 96/200\n",
      "1/1 [==============================] - 0s 9ms/step - loss: 0.1834 - mse: 0.1834 - mae: 0.3675\n",
      "Epoch 97/200\n",
      "1/1 [==============================] - 0s 11ms/step - loss: 0.1821 - mse: 0.1821 - mae: 0.3663\n",
      "Epoch 98/200\n",
      "1/1 [==============================] - 0s 16ms/step - loss: 0.1809 - mse: 0.1809 - mae: 0.3651\n",
      "Epoch 99/200\n",
      "1/1 [==============================] - 0s 31ms/step - loss: 0.1797 - mse: 0.1797 - mae: 0.3638\n",
      "Epoch 100/200\n",
      "1/1 [==============================] - 0s 30ms/step - loss: 0.1785 - mse: 0.1785 - mae: 0.3626\n",
      "Epoch 101/200\n",
      "1/1 [==============================] - 0s 25ms/step - loss: 0.1773 - mse: 0.1773 - mae: 0.3614\n",
      "Epoch 102/200\n",
      "1/1 [==============================] - 0s 26ms/step - loss: 0.1761 - mse: 0.1761 - mae: 0.3601\n",
      "Epoch 103/200\n",
      "1/1 [==============================] - 0s 9ms/step - loss: 0.1749 - mse: 0.1749 - mae: 0.3589\n",
      "Epoch 104/200\n",
      "1/1 [==============================] - 0s 4ms/step - loss: 0.1737 - mse: 0.1737 - mae: 0.3577\n",
      "Epoch 105/200\n",
      "1/1 [==============================] - 0s 19ms/step - loss: 0.1725 - mse: 0.1725 - mae: 0.3565\n",
      "Epoch 106/200\n",
      "1/1 [==============================] - 0s 3ms/step - loss: 0.1714 - mse: 0.1714 - mae: 0.3553\n",
      "Epoch 107/200\n",
      "1/1 [==============================] - 0s 6ms/step - loss: 0.1702 - mse: 0.1702 - mae: 0.3541\n",
      "Epoch 108/200\n",
      "1/1 [==============================] - 0s 18ms/step - loss: 0.1690 - mse: 0.1690 - mae: 0.3529\n",
      "Epoch 109/200\n",
      "1/1 [==============================] - 0s 7ms/step - loss: 0.1679 - mse: 0.1679 - mae: 0.3517\n",
      "Epoch 110/200\n",
      "1/1 [==============================] - 0s 6ms/step - loss: 0.1668 - mse: 0.1668 - mae: 0.3505\n",
      "Epoch 111/200\n",
      "1/1 [==============================] - 0s 10ms/step - loss: 0.1656 - mse: 0.1656 - mae: 0.3493\n",
      "Epoch 112/200\n",
      "1/1 [==============================] - 0s 8ms/step - loss: 0.1645 - mse: 0.1645 - mae: 0.3482\n",
      "Epoch 113/200\n",
      "1/1 [==============================] - 0s 11ms/step - loss: 0.1634 - mse: 0.1634 - mae: 0.3470\n",
      "Epoch 114/200\n",
      "1/1 [==============================] - 0s 11ms/step - loss: 0.1623 - mse: 0.1623 - mae: 0.3458\n",
      "Epoch 115/200\n",
      "1/1 [==============================] - 0s 12ms/step - loss: 0.1612 - mse: 0.1612 - mae: 0.3446\n",
      "Epoch 116/200\n",
      "1/1 [==============================] - 0s 18ms/step - loss: 0.1601 - mse: 0.1601 - mae: 0.3435\n",
      "Epoch 117/200\n",
      "1/1 [==============================] - 0s 13ms/step - loss: 0.1590 - mse: 0.1590 - mae: 0.3423\n",
      "Epoch 118/200\n",
      "1/1 [==============================] - 0s 4ms/step - loss: 0.1580 - mse: 0.1580 - mae: 0.3411\n",
      "Epoch 119/200\n",
      "1/1 [==============================] - 0s 22ms/step - loss: 0.1569 - mse: 0.1569 - mae: 0.3400\n",
      "Epoch 120/200\n",
      "1/1 [==============================] - 0s 7ms/step - loss: 0.1558 - mse: 0.1558 - mae: 0.3388\n",
      "Epoch 121/200\n",
      "1/1 [==============================] - 0s 3ms/step - loss: 0.1548 - mse: 0.1548 - mae: 0.3377\n",
      "Epoch 122/200\n",
      "1/1 [==============================] - 0s 11ms/step - loss: 0.1538 - mse: 0.1538 - mae: 0.3366\n",
      "Epoch 123/200\n",
      "1/1 [==============================] - 0s 35ms/step - loss: 0.1527 - mse: 0.1527 - mae: 0.3354\n",
      "Epoch 124/200\n",
      "1/1 [==============================] - 0s 16ms/step - loss: 0.1517 - mse: 0.1517 - mae: 0.3343\n",
      "Epoch 125/200\n",
      "1/1 [==============================] - 0s 2ms/step - loss: 0.1507 - mse: 0.1507 - mae: 0.3332\n",
      "Epoch 126/200\n",
      "1/1 [==============================] - 0s 3ms/step - loss: 0.1496 - mse: 0.1496 - mae: 0.3320\n",
      "Epoch 127/200\n",
      "1/1 [==============================] - 0s 24ms/step - loss: 0.1486 - mse: 0.1486 - mae: 0.3309\n",
      "Epoch 128/200\n",
      "1/1 [==============================] - 0s 23ms/step - loss: 0.1476 - mse: 0.1476 - mae: 0.3298\n",
      "Epoch 129/200\n",
      "1/1 [==============================] - 0s 28ms/step - loss: 0.1466 - mse: 0.1466 - mae: 0.3287\n",
      "Epoch 130/200\n",
      "1/1 [==============================] - 0s 10ms/step - loss: 0.1456 - mse: 0.1456 - mae: 0.3276\n",
      "Epoch 131/200\n",
      "1/1 [==============================] - 0s 5ms/step - loss: 0.1447 - mse: 0.1447 - mae: 0.3265\n",
      "Epoch 132/200\n",
      "1/1 [==============================] - 0s 7ms/step - loss: 0.1437 - mse: 0.1437 - mae: 0.3254\n",
      "Epoch 133/200\n",
      "1/1 [==============================] - 0s 34ms/step - loss: 0.1427 - mse: 0.1427 - mae: 0.3243\n",
      "Epoch 134/200\n",
      "1/1 [==============================] - 0s 11ms/step - loss: 0.1417 - mse: 0.1417 - mae: 0.3232\n",
      "Epoch 135/200\n",
      "1/1 [==============================] - 0s 11ms/step - loss: 0.1408 - mse: 0.1408 - mae: 0.3221\n",
      "Epoch 136/200\n",
      "1/1 [==============================] - 0s 17ms/step - loss: 0.1398 - mse: 0.1398 - mae: 0.3210\n",
      "Epoch 137/200\n",
      "1/1 [==============================] - 0s 11ms/step - loss: 0.1389 - mse: 0.1389 - mae: 0.3199\n",
      "Epoch 138/200\n",
      "1/1 [==============================] - 0s 9ms/step - loss: 0.1380 - mse: 0.1380 - mae: 0.3188\n",
      "Epoch 139/200\n",
      "1/1 [==============================] - 0s 7ms/step - loss: 0.1370 - mse: 0.1370 - mae: 0.3177\n",
      "Epoch 140/200\n",
      "1/1 [==============================] - 0s 5ms/step - loss: 0.1361 - mse: 0.1361 - mae: 0.3167\n",
      "Epoch 141/200\n",
      "1/1 [==============================] - 0s 4ms/step - loss: 0.1352 - mse: 0.1352 - mae: 0.3156\n",
      "Epoch 142/200\n",
      "1/1 [==============================] - 0s 13ms/step - loss: 0.1343 - mse: 0.1343 - mae: 0.3145\n",
      "Epoch 143/200\n",
      "1/1 [==============================] - 0s 7ms/step - loss: 0.1334 - mse: 0.1334 - mae: 0.3135\n",
      "Epoch 144/200\n",
      "1/1 [==============================] - 0s 7ms/step - loss: 0.1325 - mse: 0.1325 - mae: 0.3124\n",
      "Epoch 145/200\n",
      "1/1 [==============================] - 0s 11ms/step - loss: 0.1316 - mse: 0.1316 - mae: 0.3113\n",
      "Epoch 146/200\n",
      "1/1 [==============================] - 0s 5ms/step - loss: 0.1307 - mse: 0.1307 - mae: 0.3103\n",
      "Epoch 147/200\n",
      "1/1 [==============================] - 0s 10ms/step - loss: 0.1298 - mse: 0.1298 - mae: 0.3092\n",
      "Epoch 148/200\n",
      "1/1 [==============================] - 0s 16ms/step - loss: 0.1289 - mse: 0.1289 - mae: 0.3082\n",
      "Epoch 149/200\n",
      "1/1 [==============================] - 0s 11ms/step - loss: 0.1281 - mse: 0.1281 - mae: 0.3071\n",
      "Epoch 150/200\n",
      "1/1 [==============================] - 0s 7ms/step - loss: 0.1272 - mse: 0.1272 - mae: 0.3061\n",
      "Epoch 151/200\n",
      "1/1 [==============================] - 0s 5ms/step - loss: 0.1263 - mse: 0.1263 - mae: 0.3051\n",
      "Epoch 152/200\n",
      "1/1 [==============================] - 0s 13ms/step - loss: 0.1255 - mse: 0.1255 - mae: 0.3040\n",
      "Epoch 153/200\n",
      "1/1 [==============================] - 0s 10ms/step - loss: 0.1246 - mse: 0.1246 - mae: 0.3030\n",
      "Epoch 154/200\n",
      "1/1 [==============================] - 0s 11ms/step - loss: 0.1238 - mse: 0.1238 - mae: 0.3020\n",
      "Epoch 155/200\n",
      "1/1 [==============================] - 0s 11ms/step - loss: 0.1230 - mse: 0.1230 - mae: 0.3010\n",
      "Epoch 156/200\n",
      "1/1 [==============================] - 0s 13ms/step - loss: 0.1221 - mse: 0.1221 - mae: 0.3000\n",
      "Epoch 157/200\n",
      "1/1 [==============================] - 0s 13ms/step - loss: 0.1213 - mse: 0.1213 - mae: 0.2989\n",
      "Epoch 158/200\n",
      "1/1 [==============================] - 0s 8ms/step - loss: 0.1205 - mse: 0.1205 - mae: 0.2979\n",
      "Epoch 159/200\n",
      "1/1 [==============================] - 0s 20ms/step - loss: 0.1197 - mse: 0.1197 - mae: 0.2969\n",
      "Epoch 160/200\n",
      "1/1 [==============================] - 0s 7ms/step - loss: 0.1189 - mse: 0.1189 - mae: 0.2959\n",
      "Epoch 161/200\n",
      "1/1 [==============================] - 0s 3ms/step - loss: 0.1181 - mse: 0.1181 - mae: 0.2949\n",
      "Epoch 162/200\n",
      "1/1 [==============================] - 0s 10ms/step - loss: 0.1173 - mse: 0.1173 - mae: 0.2939\n",
      "Epoch 163/200\n",
      "1/1 [==============================] - 0s 3ms/step - loss: 0.1165 - mse: 0.1165 - mae: 0.2929\n",
      "Epoch 164/200\n",
      "1/1 [==============================] - 0s 5ms/step - loss: 0.1157 - mse: 0.1157 - mae: 0.2919\n",
      "Epoch 165/200\n",
      "1/1 [==============================] - 0s 8ms/step - loss: 0.1149 - mse: 0.1149 - mae: 0.2909\n",
      "Epoch 166/200\n",
      "1/1 [==============================] - 0s 10ms/step - loss: 0.1141 - mse: 0.1141 - mae: 0.2900\n",
      "Epoch 167/200\n",
      "1/1 [==============================] - 0s 5ms/step - loss: 0.1134 - mse: 0.1134 - mae: 0.2890\n",
      "Epoch 168/200\n",
      "1/1 [==============================] - 0s 4ms/step - loss: 0.1126 - mse: 0.1126 - mae: 0.2880\n",
      "Epoch 169/200\n",
      "1/1 [==============================] - 0s 10ms/step - loss: 0.1118 - mse: 0.1118 - mae: 0.2870\n",
      "Epoch 170/200\n",
      "1/1 [==============================] - 0s 22ms/step - loss: 0.1111 - mse: 0.1111 - mae: 0.2861\n",
      "Epoch 171/200\n",
      "1/1 [==============================] - 0s 78ms/step - loss: 0.1103 - mse: 0.1103 - mae: 0.2851\n",
      "Epoch 172/200\n",
      "1/1 [==============================] - 0s 10ms/step - loss: 0.1096 - mse: 0.1096 - mae: 0.2841\n",
      "Epoch 173/200\n",
      "1/1 [==============================] - 0s 23ms/step - loss: 0.1088 - mse: 0.1088 - mae: 0.2832\n",
      "Epoch 174/200\n",
      "1/1 [==============================] - 0s 37ms/step - loss: 0.1081 - mse: 0.1081 - mae: 0.2822\n",
      "Epoch 175/200\n",
      "1/1 [==============================] - 0s 38ms/step - loss: 0.1074 - mse: 0.1074 - mae: 0.2813\n",
      "Epoch 176/200\n",
      "1/1 [==============================] - 0s 11ms/step - loss: 0.1067 - mse: 0.1067 - mae: 0.2803\n",
      "Epoch 177/200\n",
      "1/1 [==============================] - 0s 3ms/step - loss: 0.1059 - mse: 0.1059 - mae: 0.2794\n",
      "Epoch 178/200\n",
      "1/1 [==============================] - 0s 12ms/step - loss: 0.1052 - mse: 0.1052 - mae: 0.2784\n",
      "Epoch 179/200\n",
      "1/1 [==============================] - 0s 4ms/step - loss: 0.1045 - mse: 0.1045 - mae: 0.2775\n",
      "Epoch 180/200\n",
      "1/1 [==============================] - 0s 9ms/step - loss: 0.1038 - mse: 0.1038 - mae: 0.2765\n",
      "Epoch 181/200\n",
      "1/1 [==============================] - 0s 10ms/step - loss: 0.1031 - mse: 0.1031 - mae: 0.2756\n",
      "Epoch 182/200\n",
      "1/1 [==============================] - 0s 30ms/step - loss: 0.1024 - mse: 0.1024 - mae: 0.2747\n",
      "Epoch 183/200\n",
      "1/1 [==============================] - 0s 12ms/step - loss: 0.1017 - mse: 0.1017 - mae: 0.2737\n",
      "Epoch 184/200\n",
      "1/1 [==============================] - 0s 11ms/step - loss: 0.1010 - mse: 0.1010 - mae: 0.2728\n",
      "Epoch 185/200\n",
      "1/1 [==============================] - 0s 12ms/step - loss: 0.1003 - mse: 0.1003 - mae: 0.2719\n",
      "Epoch 186/200\n",
      "1/1 [==============================] - 0s 15ms/step - loss: 0.0997 - mse: 0.0997 - mae: 0.2710\n",
      "Epoch 187/200\n",
      "1/1 [==============================] - 0s 11ms/step - loss: 0.0990 - mse: 0.0990 - mae: 0.2701\n",
      "Epoch 188/200\n",
      "1/1 [==============================] - 0s 12ms/step - loss: 0.0983 - mse: 0.0983 - mae: 0.2691\n",
      "Epoch 189/200\n",
      "1/1 [==============================] - 0s 23ms/step - loss: 0.0977 - mse: 0.0977 - mae: 0.2682\n",
      "Epoch 190/200\n",
      "1/1 [==============================] - 0s 14ms/step - loss: 0.0970 - mse: 0.0970 - mae: 0.2673\n",
      "Epoch 191/200\n",
      "1/1 [==============================] - 0s 20ms/step - loss: 0.0963 - mse: 0.0963 - mae: 0.2664\n",
      "Epoch 192/200\n",
      "1/1 [==============================] - 0s 49ms/step - loss: 0.0957 - mse: 0.0957 - mae: 0.2655\n",
      "Epoch 193/200\n",
      "1/1 [==============================] - 0s 14ms/step - loss: 0.0951 - mse: 0.0951 - mae: 0.2646\n",
      "Epoch 194/200\n",
      "1/1 [==============================] - 0s 4ms/step - loss: 0.0944 - mse: 0.0944 - mae: 0.2637\n",
      "Epoch 195/200\n",
      "1/1 [==============================] - 0s 3ms/step - loss: 0.0938 - mse: 0.0938 - mae: 0.2628\n",
      "Epoch 196/200\n",
      "1/1 [==============================] - 0s 22ms/step - loss: 0.0931 - mse: 0.0931 - mae: 0.2620\n",
      "Epoch 197/200\n",
      "1/1 [==============================] - 0s 13ms/step - loss: 0.0925 - mse: 0.0925 - mae: 0.2611\n",
      "Epoch 198/200\n",
      "1/1 [==============================] - 0s 11ms/step - loss: 0.0919 - mse: 0.0919 - mae: 0.2602\n",
      "Epoch 199/200\n",
      "1/1 [==============================] - 0s 9ms/step - loss: 0.0913 - mse: 0.0913 - mae: 0.2593\n",
      "Epoch 200/200\n",
      "1/1 [==============================] - 0s 24ms/step - loss: 0.0907 - mse: 0.0907 - mae: 0.2584\n"
     ]
    }
   ],
   "metadata": {}
  },
  {
   "cell_type": "code",
   "execution_count": 15,
   "source": [
    "plt.plot(history.history['loss'], label = 'loss')\n",
    "plt.plot(history.history['mae'], label = 'mae')\n",
    "plt.xlim(-1, 20)\n",
    "plt.title('loss')\n",
    "plt.legend()\n",
    "plt.show()"
   ],
   "outputs": [
    {
     "output_type": "display_data",
     "data": {
      "text/plain": [
       "<Figure size 432x288 with 1 Axes>"
      ],
      "image/svg+xml": "<?xml version=\"1.0\" encoding=\"utf-8\" standalone=\"no\"?>\n<!DOCTYPE svg PUBLIC \"-//W3C//DTD SVG 1.1//EN\"\n  \"http://www.w3.org/Graphics/SVG/1.1/DTD/svg11.dtd\">\n<!-- Created with matplotlib (https://matplotlib.org/) -->\n<svg height=\"263.63625pt\" version=\"1.1\" viewBox=\"0 0 380.057813 263.63625\" width=\"380.057813pt\" xmlns=\"http://www.w3.org/2000/svg\" xmlns:xlink=\"http://www.w3.org/1999/xlink\">\n <metadata>\n  <rdf:RDF xmlns:cc=\"http://creativecommons.org/ns#\" xmlns:dc=\"http://purl.org/dc/elements/1.1/\" xmlns:rdf=\"http://www.w3.org/1999/02/22-rdf-syntax-ns#\">\n   <cc:Work>\n    <dc:type rdf:resource=\"http://purl.org/dc/dcmitype/StillImage\"/>\n    <dc:date>2021-08-09T17:32:50.291264</dc:date>\n    <dc:format>image/svg+xml</dc:format>\n    <dc:creator>\n     <cc:Agent>\n      <dc:title>Matplotlib v3.3.4, https://matplotlib.org/</dc:title>\n     </cc:Agent>\n    </dc:creator>\n   </cc:Work>\n  </rdf:RDF>\n </metadata>\n <defs>\n  <style type=\"text/css\">*{stroke-linecap:butt;stroke-linejoin:round;}</style>\n </defs>\n <g id=\"figure_1\">\n  <g id=\"patch_1\">\n   <path d=\"M -0 263.63625 \nL 380.057813 263.63625 \nL 380.057813 0 \nL -0 0 \nz\n\" style=\"fill:none;\"/>\n  </g>\n  <g id=\"axes_1\">\n   <g id=\"patch_2\">\n    <path d=\"M 26.925 239.758125 \nL 361.725 239.758125 \nL 361.725 22.318125 \nL 26.925 22.318125 \nz\n\" style=\"fill:#ffffff;\"/>\n   </g>\n   <g id=\"matplotlib.axis_1\">\n    <g id=\"xtick_1\">\n     <g id=\"line2d_1\">\n      <defs>\n       <path d=\"M 0 0 \nL 0 3.5 \n\" id=\"m59ab78c7fb\" style=\"stroke:#000000;stroke-width:0.8;\"/>\n      </defs>\n      <g>\n       <use style=\"stroke:#000000;stroke-width:0.8;\" x=\"42.867857\" xlink:href=\"#m59ab78c7fb\" y=\"239.758125\"/>\n      </g>\n     </g>\n     <g id=\"text_1\">\n      <!-- 0.0 -->\n      <g transform=\"translate(34.916295 254.356563)scale(0.1 -0.1)\">\n       <defs>\n        <path d=\"M 31.78125 66.40625 \nQ 24.171875 66.40625 20.328125 58.90625 \nQ 16.5 51.421875 16.5 36.375 \nQ 16.5 21.390625 20.328125 13.890625 \nQ 24.171875 6.390625 31.78125 6.390625 \nQ 39.453125 6.390625 43.28125 13.890625 \nQ 47.125 21.390625 47.125 36.375 \nQ 47.125 51.421875 43.28125 58.90625 \nQ 39.453125 66.40625 31.78125 66.40625 \nz\nM 31.78125 74.21875 \nQ 44.046875 74.21875 50.515625 64.515625 \nQ 56.984375 54.828125 56.984375 36.375 \nQ 56.984375 17.96875 50.515625 8.265625 \nQ 44.046875 -1.421875 31.78125 -1.421875 \nQ 19.53125 -1.421875 13.0625 8.265625 \nQ 6.59375 17.96875 6.59375 36.375 \nQ 6.59375 54.828125 13.0625 64.515625 \nQ 19.53125 74.21875 31.78125 74.21875 \nz\n\" id=\"DejaVuSans-48\"/>\n        <path d=\"M 10.6875 12.40625 \nL 21 12.40625 \nL 21 0 \nL 10.6875 0 \nz\n\" id=\"DejaVuSans-46\"/>\n       </defs>\n       <use xlink:href=\"#DejaVuSans-48\"/>\n       <use x=\"63.623047\" xlink:href=\"#DejaVuSans-46\"/>\n       <use x=\"95.410156\" xlink:href=\"#DejaVuSans-48\"/>\n      </g>\n     </g>\n    </g>\n    <g id=\"xtick_2\">\n     <g id=\"line2d_2\">\n      <g>\n       <use style=\"stroke:#000000;stroke-width:0.8;\" x=\"82.725\" xlink:href=\"#m59ab78c7fb\" y=\"239.758125\"/>\n      </g>\n     </g>\n     <g id=\"text_2\">\n      <!-- 2.5 -->\n      <g transform=\"translate(74.773438 254.356563)scale(0.1 -0.1)\">\n       <defs>\n        <path d=\"M 19.1875 8.296875 \nL 53.609375 8.296875 \nL 53.609375 0 \nL 7.328125 0 \nL 7.328125 8.296875 \nQ 12.9375 14.109375 22.625 23.890625 \nQ 32.328125 33.6875 34.8125 36.53125 \nQ 39.546875 41.84375 41.421875 45.53125 \nQ 43.3125 49.21875 43.3125 52.78125 \nQ 43.3125 58.59375 39.234375 62.25 \nQ 35.15625 65.921875 28.609375 65.921875 \nQ 23.96875 65.921875 18.8125 64.3125 \nQ 13.671875 62.703125 7.8125 59.421875 \nL 7.8125 69.390625 \nQ 13.765625 71.78125 18.9375 73 \nQ 24.125 74.21875 28.421875 74.21875 \nQ 39.75 74.21875 46.484375 68.546875 \nQ 53.21875 62.890625 53.21875 53.421875 \nQ 53.21875 48.921875 51.53125 44.890625 \nQ 49.859375 40.875 45.40625 35.40625 \nQ 44.1875 33.984375 37.640625 27.21875 \nQ 31.109375 20.453125 19.1875 8.296875 \nz\n\" id=\"DejaVuSans-50\"/>\n        <path d=\"M 10.796875 72.90625 \nL 49.515625 72.90625 \nL 49.515625 64.59375 \nL 19.828125 64.59375 \nL 19.828125 46.734375 \nQ 21.96875 47.46875 24.109375 47.828125 \nQ 26.265625 48.1875 28.421875 48.1875 \nQ 40.625 48.1875 47.75 41.5 \nQ 54.890625 34.8125 54.890625 23.390625 \nQ 54.890625 11.625 47.5625 5.09375 \nQ 40.234375 -1.421875 26.90625 -1.421875 \nQ 22.3125 -1.421875 17.546875 -0.640625 \nQ 12.796875 0.140625 7.71875 1.703125 \nL 7.71875 11.625 \nQ 12.109375 9.234375 16.796875 8.0625 \nQ 21.484375 6.890625 26.703125 6.890625 \nQ 35.15625 6.890625 40.078125 11.328125 \nQ 45.015625 15.765625 45.015625 23.390625 \nQ 45.015625 31 40.078125 35.4375 \nQ 35.15625 39.890625 26.703125 39.890625 \nQ 22.75 39.890625 18.8125 39.015625 \nQ 14.890625 38.140625 10.796875 36.28125 \nz\n\" id=\"DejaVuSans-53\"/>\n       </defs>\n       <use xlink:href=\"#DejaVuSans-50\"/>\n       <use x=\"63.623047\" xlink:href=\"#DejaVuSans-46\"/>\n       <use x=\"95.410156\" xlink:href=\"#DejaVuSans-53\"/>\n      </g>\n     </g>\n    </g>\n    <g id=\"xtick_3\">\n     <g id=\"line2d_3\">\n      <g>\n       <use style=\"stroke:#000000;stroke-width:0.8;\" x=\"122.582143\" xlink:href=\"#m59ab78c7fb\" y=\"239.758125\"/>\n      </g>\n     </g>\n     <g id=\"text_3\">\n      <!-- 5.0 -->\n      <g transform=\"translate(114.63058 254.356563)scale(0.1 -0.1)\">\n       <use xlink:href=\"#DejaVuSans-53\"/>\n       <use x=\"63.623047\" xlink:href=\"#DejaVuSans-46\"/>\n       <use x=\"95.410156\" xlink:href=\"#DejaVuSans-48\"/>\n      </g>\n     </g>\n    </g>\n    <g id=\"xtick_4\">\n     <g id=\"line2d_4\">\n      <g>\n       <use style=\"stroke:#000000;stroke-width:0.8;\" x=\"162.439286\" xlink:href=\"#m59ab78c7fb\" y=\"239.758125\"/>\n      </g>\n     </g>\n     <g id=\"text_4\">\n      <!-- 7.5 -->\n      <g transform=\"translate(154.487723 254.356563)scale(0.1 -0.1)\">\n       <defs>\n        <path d=\"M 8.203125 72.90625 \nL 55.078125 72.90625 \nL 55.078125 68.703125 \nL 28.609375 0 \nL 18.3125 0 \nL 43.21875 64.59375 \nL 8.203125 64.59375 \nz\n\" id=\"DejaVuSans-55\"/>\n       </defs>\n       <use xlink:href=\"#DejaVuSans-55\"/>\n       <use x=\"63.623047\" xlink:href=\"#DejaVuSans-46\"/>\n       <use x=\"95.410156\" xlink:href=\"#DejaVuSans-53\"/>\n      </g>\n     </g>\n    </g>\n    <g id=\"xtick_5\">\n     <g id=\"line2d_5\">\n      <g>\n       <use style=\"stroke:#000000;stroke-width:0.8;\" x=\"202.296429\" xlink:href=\"#m59ab78c7fb\" y=\"239.758125\"/>\n      </g>\n     </g>\n     <g id=\"text_5\">\n      <!-- 10.0 -->\n      <g transform=\"translate(191.163616 254.356563)scale(0.1 -0.1)\">\n       <defs>\n        <path d=\"M 12.40625 8.296875 \nL 28.515625 8.296875 \nL 28.515625 63.921875 \nL 10.984375 60.40625 \nL 10.984375 69.390625 \nL 28.421875 72.90625 \nL 38.28125 72.90625 \nL 38.28125 8.296875 \nL 54.390625 8.296875 \nL 54.390625 0 \nL 12.40625 0 \nz\n\" id=\"DejaVuSans-49\"/>\n       </defs>\n       <use xlink:href=\"#DejaVuSans-49\"/>\n       <use x=\"63.623047\" xlink:href=\"#DejaVuSans-48\"/>\n       <use x=\"127.246094\" xlink:href=\"#DejaVuSans-46\"/>\n       <use x=\"159.033203\" xlink:href=\"#DejaVuSans-48\"/>\n      </g>\n     </g>\n    </g>\n    <g id=\"xtick_6\">\n     <g id=\"line2d_6\">\n      <g>\n       <use style=\"stroke:#000000;stroke-width:0.8;\" x=\"242.153571\" xlink:href=\"#m59ab78c7fb\" y=\"239.758125\"/>\n      </g>\n     </g>\n     <g id=\"text_6\">\n      <!-- 12.5 -->\n      <g transform=\"translate(231.020759 254.356563)scale(0.1 -0.1)\">\n       <use xlink:href=\"#DejaVuSans-49\"/>\n       <use x=\"63.623047\" xlink:href=\"#DejaVuSans-50\"/>\n       <use x=\"127.246094\" xlink:href=\"#DejaVuSans-46\"/>\n       <use x=\"159.033203\" xlink:href=\"#DejaVuSans-53\"/>\n      </g>\n     </g>\n    </g>\n    <g id=\"xtick_7\">\n     <g id=\"line2d_7\">\n      <g>\n       <use style=\"stroke:#000000;stroke-width:0.8;\" x=\"282.010714\" xlink:href=\"#m59ab78c7fb\" y=\"239.758125\"/>\n      </g>\n     </g>\n     <g id=\"text_7\">\n      <!-- 15.0 -->\n      <g transform=\"translate(270.877902 254.356563)scale(0.1 -0.1)\">\n       <use xlink:href=\"#DejaVuSans-49\"/>\n       <use x=\"63.623047\" xlink:href=\"#DejaVuSans-53\"/>\n       <use x=\"127.246094\" xlink:href=\"#DejaVuSans-46\"/>\n       <use x=\"159.033203\" xlink:href=\"#DejaVuSans-48\"/>\n      </g>\n     </g>\n    </g>\n    <g id=\"xtick_8\">\n     <g id=\"line2d_8\">\n      <g>\n       <use style=\"stroke:#000000;stroke-width:0.8;\" x=\"321.867857\" xlink:href=\"#m59ab78c7fb\" y=\"239.758125\"/>\n      </g>\n     </g>\n     <g id=\"text_8\">\n      <!-- 17.5 -->\n      <g transform=\"translate(310.735045 254.356563)scale(0.1 -0.1)\">\n       <use xlink:href=\"#DejaVuSans-49\"/>\n       <use x=\"63.623047\" xlink:href=\"#DejaVuSans-55\"/>\n       <use x=\"127.246094\" xlink:href=\"#DejaVuSans-46\"/>\n       <use x=\"159.033203\" xlink:href=\"#DejaVuSans-53\"/>\n      </g>\n     </g>\n    </g>\n    <g id=\"xtick_9\">\n     <g id=\"line2d_9\">\n      <g>\n       <use style=\"stroke:#000000;stroke-width:0.8;\" x=\"361.725\" xlink:href=\"#m59ab78c7fb\" y=\"239.758125\"/>\n      </g>\n     </g>\n     <g id=\"text_9\">\n      <!-- 20.0 -->\n      <g transform=\"translate(350.592188 254.356563)scale(0.1 -0.1)\">\n       <use xlink:href=\"#DejaVuSans-50\"/>\n       <use x=\"63.623047\" xlink:href=\"#DejaVuSans-48\"/>\n       <use x=\"127.246094\" xlink:href=\"#DejaVuSans-46\"/>\n       <use x=\"159.033203\" xlink:href=\"#DejaVuSans-48\"/>\n      </g>\n     </g>\n    </g>\n   </g>\n   <g id=\"matplotlib.axis_2\">\n    <g id=\"ytick_1\">\n     <g id=\"line2d_10\">\n      <defs>\n       <path d=\"M 0 0 \nL -3.5 0 \n\" id=\"ma94a0711c6\" style=\"stroke:#000000;stroke-width:0.8;\"/>\n      </defs>\n      <g>\n       <use style=\"stroke:#000000;stroke-width:0.8;\" x=\"26.925\" xlink:href=\"#ma94a0711c6\" y=\"230.158287\"/>\n      </g>\n     </g>\n     <g id=\"text_10\">\n      <!-- 0 -->\n      <g transform=\"translate(13.5625 233.957506)scale(0.1 -0.1)\">\n       <use xlink:href=\"#DejaVuSans-48\"/>\n      </g>\n     </g>\n    </g>\n    <g id=\"ytick_2\">\n     <g id=\"line2d_11\">\n      <g>\n       <use style=\"stroke:#000000;stroke-width:0.8;\" x=\"26.925\" xlink:href=\"#ma94a0711c6\" y=\"198.851669\"/>\n      </g>\n     </g>\n     <g id=\"text_11\">\n      <!-- 10 -->\n      <g transform=\"translate(7.2 202.650887)scale(0.1 -0.1)\">\n       <use xlink:href=\"#DejaVuSans-49\"/>\n       <use x=\"63.623047\" xlink:href=\"#DejaVuSans-48\"/>\n      </g>\n     </g>\n    </g>\n    <g id=\"ytick_3\">\n     <g id=\"line2d_12\">\n      <g>\n       <use style=\"stroke:#000000;stroke-width:0.8;\" x=\"26.925\" xlink:href=\"#ma94a0711c6\" y=\"167.54505\"/>\n      </g>\n     </g>\n     <g id=\"text_12\">\n      <!-- 20 -->\n      <g transform=\"translate(7.2 171.344269)scale(0.1 -0.1)\">\n       <use xlink:href=\"#DejaVuSans-50\"/>\n       <use x=\"63.623047\" xlink:href=\"#DejaVuSans-48\"/>\n      </g>\n     </g>\n    </g>\n    <g id=\"ytick_4\">\n     <g id=\"line2d_13\">\n      <g>\n       <use style=\"stroke:#000000;stroke-width:0.8;\" x=\"26.925\" xlink:href=\"#ma94a0711c6\" y=\"136.238431\"/>\n      </g>\n     </g>\n     <g id=\"text_13\">\n      <!-- 30 -->\n      <g transform=\"translate(7.2 140.03765)scale(0.1 -0.1)\">\n       <defs>\n        <path d=\"M 40.578125 39.3125 \nQ 47.65625 37.796875 51.625 33 \nQ 55.609375 28.21875 55.609375 21.1875 \nQ 55.609375 10.40625 48.1875 4.484375 \nQ 40.765625 -1.421875 27.09375 -1.421875 \nQ 22.515625 -1.421875 17.65625 -0.515625 \nQ 12.796875 0.390625 7.625 2.203125 \nL 7.625 11.71875 \nQ 11.71875 9.328125 16.59375 8.109375 \nQ 21.484375 6.890625 26.8125 6.890625 \nQ 36.078125 6.890625 40.9375 10.546875 \nQ 45.796875 14.203125 45.796875 21.1875 \nQ 45.796875 27.640625 41.28125 31.265625 \nQ 36.765625 34.90625 28.71875 34.90625 \nL 20.21875 34.90625 \nL 20.21875 43.015625 \nL 29.109375 43.015625 \nQ 36.375 43.015625 40.234375 45.921875 \nQ 44.09375 48.828125 44.09375 54.296875 \nQ 44.09375 59.90625 40.109375 62.90625 \nQ 36.140625 65.921875 28.71875 65.921875 \nQ 24.65625 65.921875 20.015625 65.03125 \nQ 15.375 64.15625 9.8125 62.3125 \nL 9.8125 71.09375 \nQ 15.4375 72.65625 20.34375 73.4375 \nQ 25.25 74.21875 29.59375 74.21875 \nQ 40.828125 74.21875 47.359375 69.109375 \nQ 53.90625 64.015625 53.90625 55.328125 \nQ 53.90625 49.265625 50.4375 45.09375 \nQ 46.96875 40.921875 40.578125 39.3125 \nz\n\" id=\"DejaVuSans-51\"/>\n       </defs>\n       <use xlink:href=\"#DejaVuSans-51\"/>\n       <use x=\"63.623047\" xlink:href=\"#DejaVuSans-48\"/>\n      </g>\n     </g>\n    </g>\n    <g id=\"ytick_5\">\n     <g id=\"line2d_14\">\n      <g>\n       <use style=\"stroke:#000000;stroke-width:0.8;\" x=\"26.925\" xlink:href=\"#ma94a0711c6\" y=\"104.931812\"/>\n      </g>\n     </g>\n     <g id=\"text_14\">\n      <!-- 40 -->\n      <g transform=\"translate(7.2 108.731031)scale(0.1 -0.1)\">\n       <defs>\n        <path d=\"M 37.796875 64.3125 \nL 12.890625 25.390625 \nL 37.796875 25.390625 \nz\nM 35.203125 72.90625 \nL 47.609375 72.90625 \nL 47.609375 25.390625 \nL 58.015625 25.390625 \nL 58.015625 17.1875 \nL 47.609375 17.1875 \nL 47.609375 0 \nL 37.796875 0 \nL 37.796875 17.1875 \nL 4.890625 17.1875 \nL 4.890625 26.703125 \nz\n\" id=\"DejaVuSans-52\"/>\n       </defs>\n       <use xlink:href=\"#DejaVuSans-52\"/>\n       <use x=\"63.623047\" xlink:href=\"#DejaVuSans-48\"/>\n      </g>\n     </g>\n    </g>\n    <g id=\"ytick_6\">\n     <g id=\"line2d_15\">\n      <g>\n       <use style=\"stroke:#000000;stroke-width:0.8;\" x=\"26.925\" xlink:href=\"#ma94a0711c6\" y=\"73.625194\"/>\n      </g>\n     </g>\n     <g id=\"text_15\">\n      <!-- 50 -->\n      <g transform=\"translate(7.2 77.424412)scale(0.1 -0.1)\">\n       <use xlink:href=\"#DejaVuSans-53\"/>\n       <use x=\"63.623047\" xlink:href=\"#DejaVuSans-48\"/>\n      </g>\n     </g>\n    </g>\n    <g id=\"ytick_7\">\n     <g id=\"line2d_16\">\n      <g>\n       <use style=\"stroke:#000000;stroke-width:0.8;\" x=\"26.925\" xlink:href=\"#ma94a0711c6\" y=\"42.318575\"/>\n      </g>\n     </g>\n     <g id=\"text_16\">\n      <!-- 60 -->\n      <g transform=\"translate(7.2 46.117794)scale(0.1 -0.1)\">\n       <defs>\n        <path d=\"M 33.015625 40.375 \nQ 26.375 40.375 22.484375 35.828125 \nQ 18.609375 31.296875 18.609375 23.390625 \nQ 18.609375 15.53125 22.484375 10.953125 \nQ 26.375 6.390625 33.015625 6.390625 \nQ 39.65625 6.390625 43.53125 10.953125 \nQ 47.40625 15.53125 47.40625 23.390625 \nQ 47.40625 31.296875 43.53125 35.828125 \nQ 39.65625 40.375 33.015625 40.375 \nz\nM 52.59375 71.296875 \nL 52.59375 62.3125 \nQ 48.875 64.0625 45.09375 64.984375 \nQ 41.3125 65.921875 37.59375 65.921875 \nQ 27.828125 65.921875 22.671875 59.328125 \nQ 17.53125 52.734375 16.796875 39.40625 \nQ 19.671875 43.65625 24.015625 45.921875 \nQ 28.375 48.1875 33.59375 48.1875 \nQ 44.578125 48.1875 50.953125 41.515625 \nQ 57.328125 34.859375 57.328125 23.390625 \nQ 57.328125 12.15625 50.6875 5.359375 \nQ 44.046875 -1.421875 33.015625 -1.421875 \nQ 20.359375 -1.421875 13.671875 8.265625 \nQ 6.984375 17.96875 6.984375 36.375 \nQ 6.984375 53.65625 15.1875 63.9375 \nQ 23.390625 74.21875 37.203125 74.21875 \nQ 40.921875 74.21875 44.703125 73.484375 \nQ 48.484375 72.75 52.59375 71.296875 \nz\n\" id=\"DejaVuSans-54\"/>\n       </defs>\n       <use xlink:href=\"#DejaVuSans-54\"/>\n       <use x=\"63.623047\" xlink:href=\"#DejaVuSans-48\"/>\n      </g>\n     </g>\n    </g>\n   </g>\n   <g id=\"line2d_17\">\n    <path clip-path=\"url(#pa39f488e5c)\" d=\"M 42.867857 32.201761 \nL 58.810714 114.350585 \nL 74.753571 162.225884 \nL 90.696429 190.128226 \nL 106.639286 206.391316 \nL 122.582143 215.871617 \nL 138.525 221.399215 \nL 154.467857 224.623344 \nL 170.410714 226.50512 \nL 186.353571 227.604608 \nL 202.296429 228.248207 \nL 218.239286 228.62611 \nL 250.125 228.981957 \nL 297.953571 229.143227 \nL 381.057813 229.209921 \nL 381.057813 229.209921 \n\" style=\"fill:none;stroke:#1f77b4;stroke-linecap:square;stroke-width:1.5;\"/>\n   </g>\n   <g id=\"line2d_18\">\n    <path clip-path=\"url(#pa39f488e5c)\" d=\"M 42.867857 206.631836 \nL 58.810714 212.027732 \nL 74.753571 216.147434 \nL 90.696429 219.29291 \nL 106.639286 221.694681 \nL 122.582143 223.52872 \nL 138.525 224.929362 \nL 154.467857 225.999151 \nL 170.410714 226.816376 \nL 186.353571 227.440792 \nL 202.296429 227.918025 \nL 218.239286 228.282892 \nL 234.182143 228.496178 \nL 297.953571 228.705066 \nL 381.057813 228.693397 \nL 381.057813 228.693397 \n\" style=\"fill:none;stroke:#ff7f0e;stroke-linecap:square;stroke-width:1.5;\"/>\n   </g>\n   <g id=\"patch_3\">\n    <path d=\"M 26.925 239.758125 \nL 26.925 22.318125 \n\" style=\"fill:none;stroke:#000000;stroke-linecap:square;stroke-linejoin:miter;stroke-width:0.8;\"/>\n   </g>\n   <g id=\"patch_4\">\n    <path d=\"M 361.725 239.758125 \nL 361.725 22.318125 \n\" style=\"fill:none;stroke:#000000;stroke-linecap:square;stroke-linejoin:miter;stroke-width:0.8;\"/>\n   </g>\n   <g id=\"patch_5\">\n    <path d=\"M 26.925 239.758125 \nL 361.725 239.758125 \n\" style=\"fill:none;stroke:#000000;stroke-linecap:square;stroke-linejoin:miter;stroke-width:0.8;\"/>\n   </g>\n   <g id=\"patch_6\">\n    <path d=\"M 26.925 22.318125 \nL 361.725 22.318125 \n\" style=\"fill:none;stroke:#000000;stroke-linecap:square;stroke-linejoin:miter;stroke-width:0.8;\"/>\n   </g>\n   <g id=\"text_17\">\n    <!-- loss -->\n    <g transform=\"translate(182.735625 16.318125)scale(0.12 -0.12)\">\n     <defs>\n      <path d=\"M 9.421875 75.984375 \nL 18.40625 75.984375 \nL 18.40625 0 \nL 9.421875 0 \nz\n\" id=\"DejaVuSans-108\"/>\n      <path d=\"M 30.609375 48.390625 \nQ 23.390625 48.390625 19.1875 42.75 \nQ 14.984375 37.109375 14.984375 27.296875 \nQ 14.984375 17.484375 19.15625 11.84375 \nQ 23.34375 6.203125 30.609375 6.203125 \nQ 37.796875 6.203125 41.984375 11.859375 \nQ 46.1875 17.53125 46.1875 27.296875 \nQ 46.1875 37.015625 41.984375 42.703125 \nQ 37.796875 48.390625 30.609375 48.390625 \nz\nM 30.609375 56 \nQ 42.328125 56 49.015625 48.375 \nQ 55.71875 40.765625 55.71875 27.296875 \nQ 55.71875 13.875 49.015625 6.21875 \nQ 42.328125 -1.421875 30.609375 -1.421875 \nQ 18.84375 -1.421875 12.171875 6.21875 \nQ 5.515625 13.875 5.515625 27.296875 \nQ 5.515625 40.765625 12.171875 48.375 \nQ 18.84375 56 30.609375 56 \nz\n\" id=\"DejaVuSans-111\"/>\n      <path d=\"M 44.28125 53.078125 \nL 44.28125 44.578125 \nQ 40.484375 46.53125 36.375 47.5 \nQ 32.28125 48.484375 27.875 48.484375 \nQ 21.1875 48.484375 17.84375 46.4375 \nQ 14.5 44.390625 14.5 40.28125 \nQ 14.5 37.15625 16.890625 35.375 \nQ 19.28125 33.59375 26.515625 31.984375 \nL 29.59375 31.296875 \nQ 39.15625 29.25 43.1875 25.515625 \nQ 47.21875 21.78125 47.21875 15.09375 \nQ 47.21875 7.46875 41.1875 3.015625 \nQ 35.15625 -1.421875 24.609375 -1.421875 \nQ 20.21875 -1.421875 15.453125 -0.5625 \nQ 10.6875 0.296875 5.421875 2 \nL 5.421875 11.28125 \nQ 10.40625 8.6875 15.234375 7.390625 \nQ 20.0625 6.109375 24.8125 6.109375 \nQ 31.15625 6.109375 34.5625 8.28125 \nQ 37.984375 10.453125 37.984375 14.40625 \nQ 37.984375 18.0625 35.515625 20.015625 \nQ 33.0625 21.96875 24.703125 23.78125 \nL 21.578125 24.515625 \nQ 13.234375 26.265625 9.515625 29.90625 \nQ 5.8125 33.546875 5.8125 39.890625 \nQ 5.8125 47.609375 11.28125 51.796875 \nQ 16.75 56 26.8125 56 \nQ 31.78125 56 36.171875 55.265625 \nQ 40.578125 54.546875 44.28125 53.078125 \nz\n\" id=\"DejaVuSans-115\"/>\n     </defs>\n     <use xlink:href=\"#DejaVuSans-108\"/>\n     <use x=\"27.783203\" xlink:href=\"#DejaVuSans-111\"/>\n     <use x=\"88.964844\" xlink:href=\"#DejaVuSans-115\"/>\n     <use x=\"141.064453\" xlink:href=\"#DejaVuSans-115\"/>\n    </g>\n   </g>\n   <g id=\"legend_1\">\n    <g id=\"patch_7\">\n     <path d=\"M 300.703125 59.674375 \nL 354.725 59.674375 \nQ 356.725 59.674375 356.725 57.674375 \nL 356.725 29.318125 \nQ 356.725 27.318125 354.725 27.318125 \nL 300.703125 27.318125 \nQ 298.703125 27.318125 298.703125 29.318125 \nL 298.703125 57.674375 \nQ 298.703125 59.674375 300.703125 59.674375 \nz\n\" style=\"fill:#ffffff;opacity:0.8;stroke:#cccccc;stroke-linejoin:miter;\"/>\n    </g>\n    <g id=\"line2d_19\">\n     <path d=\"M 302.703125 35.416562 \nL 322.703125 35.416562 \n\" style=\"fill:none;stroke:#1f77b4;stroke-linecap:square;stroke-width:1.5;\"/>\n    </g>\n    <g id=\"line2d_20\"/>\n    <g id=\"text_18\">\n     <!-- loss -->\n     <g transform=\"translate(330.703125 38.916562)scale(0.1 -0.1)\">\n      <use xlink:href=\"#DejaVuSans-108\"/>\n      <use x=\"27.783203\" xlink:href=\"#DejaVuSans-111\"/>\n      <use x=\"88.964844\" xlink:href=\"#DejaVuSans-115\"/>\n      <use x=\"141.064453\" xlink:href=\"#DejaVuSans-115\"/>\n     </g>\n    </g>\n    <g id=\"line2d_21\">\n     <path d=\"M 302.703125 50.094687 \nL 322.703125 50.094687 \n\" style=\"fill:none;stroke:#ff7f0e;stroke-linecap:square;stroke-width:1.5;\"/>\n    </g>\n    <g id=\"line2d_22\"/>\n    <g id=\"text_19\">\n     <!-- mae -->\n     <g transform=\"translate(330.703125 53.594687)scale(0.1 -0.1)\">\n      <defs>\n       <path d=\"M 52 44.1875 \nQ 55.375 50.25 60.0625 53.125 \nQ 64.75 56 71.09375 56 \nQ 79.640625 56 84.28125 50.015625 \nQ 88.921875 44.046875 88.921875 33.015625 \nL 88.921875 0 \nL 79.890625 0 \nL 79.890625 32.71875 \nQ 79.890625 40.578125 77.09375 44.375 \nQ 74.3125 48.1875 68.609375 48.1875 \nQ 61.625 48.1875 57.5625 43.546875 \nQ 53.515625 38.921875 53.515625 30.90625 \nL 53.515625 0 \nL 44.484375 0 \nL 44.484375 32.71875 \nQ 44.484375 40.625 41.703125 44.40625 \nQ 38.921875 48.1875 33.109375 48.1875 \nQ 26.21875 48.1875 22.15625 43.53125 \nQ 18.109375 38.875 18.109375 30.90625 \nL 18.109375 0 \nL 9.078125 0 \nL 9.078125 54.6875 \nL 18.109375 54.6875 \nL 18.109375 46.1875 \nQ 21.1875 51.21875 25.484375 53.609375 \nQ 29.78125 56 35.6875 56 \nQ 41.65625 56 45.828125 52.96875 \nQ 50 49.953125 52 44.1875 \nz\n\" id=\"DejaVuSans-109\"/>\n       <path d=\"M 34.28125 27.484375 \nQ 23.390625 27.484375 19.1875 25 \nQ 14.984375 22.515625 14.984375 16.5 \nQ 14.984375 11.71875 18.140625 8.90625 \nQ 21.296875 6.109375 26.703125 6.109375 \nQ 34.1875 6.109375 38.703125 11.40625 \nQ 43.21875 16.703125 43.21875 25.484375 \nL 43.21875 27.484375 \nz\nM 52.203125 31.203125 \nL 52.203125 0 \nL 43.21875 0 \nL 43.21875 8.296875 \nQ 40.140625 3.328125 35.546875 0.953125 \nQ 30.953125 -1.421875 24.3125 -1.421875 \nQ 15.921875 -1.421875 10.953125 3.296875 \nQ 6 8.015625 6 15.921875 \nQ 6 25.140625 12.171875 29.828125 \nQ 18.359375 34.515625 30.609375 34.515625 \nL 43.21875 34.515625 \nL 43.21875 35.40625 \nQ 43.21875 41.609375 39.140625 45 \nQ 35.0625 48.390625 27.6875 48.390625 \nQ 23 48.390625 18.546875 47.265625 \nQ 14.109375 46.140625 10.015625 43.890625 \nL 10.015625 52.203125 \nQ 14.9375 54.109375 19.578125 55.046875 \nQ 24.21875 56 28.609375 56 \nQ 40.484375 56 46.34375 49.84375 \nQ 52.203125 43.703125 52.203125 31.203125 \nz\n\" id=\"DejaVuSans-97\"/>\n       <path d=\"M 56.203125 29.59375 \nL 56.203125 25.203125 \nL 14.890625 25.203125 \nQ 15.484375 15.921875 20.484375 11.0625 \nQ 25.484375 6.203125 34.421875 6.203125 \nQ 39.59375 6.203125 44.453125 7.46875 \nQ 49.3125 8.734375 54.109375 11.28125 \nL 54.109375 2.78125 \nQ 49.265625 0.734375 44.1875 -0.34375 \nQ 39.109375 -1.421875 33.890625 -1.421875 \nQ 20.796875 -1.421875 13.15625 6.1875 \nQ 5.515625 13.8125 5.515625 26.8125 \nQ 5.515625 40.234375 12.765625 48.109375 \nQ 20.015625 56 32.328125 56 \nQ 43.359375 56 49.78125 48.890625 \nQ 56.203125 41.796875 56.203125 29.59375 \nz\nM 47.21875 32.234375 \nQ 47.125 39.59375 43.09375 43.984375 \nQ 39.0625 48.390625 32.421875 48.390625 \nQ 24.90625 48.390625 20.390625 44.140625 \nQ 15.875 39.890625 15.1875 32.171875 \nz\n\" id=\"DejaVuSans-101\"/>\n      </defs>\n      <use xlink:href=\"#DejaVuSans-109\"/>\n      <use x=\"97.412109\" xlink:href=\"#DejaVuSans-97\"/>\n      <use x=\"158.691406\" xlink:href=\"#DejaVuSans-101\"/>\n     </g>\n    </g>\n   </g>\n  </g>\n </g>\n <defs>\n  <clipPath id=\"pa39f488e5c\">\n   <rect height=\"217.44\" width=\"334.8\" x=\"26.925\" y=\"22.318125\"/>\n  </clipPath>\n </defs>\n</svg>\n",
      "image/png": "[encoded data removed]"
     },
     "metadata": {
      "needs_background": "light"
     }
    }
   ],
   "metadata": {}
  },
  {
   "cell_type": "code",
   "execution_count": 16,
   "source": [
    "## 검증\n",
    "model.evaluate(x, y)\n",
    "\n",
    "## 오차가 적어야 훈련이 잘된것이다. "
   ],
   "outputs": [
    {
     "output_type": "stream",
     "name": "stdout",
     "text": [
      "1/1 [==============================] - 0s 173ms/step - loss: 0.0900 - mse: 0.0900 - mae: 0.2576\n"
     ]
    },
    {
     "output_type": "execute_result",
     "data": {
      "text/plain": [
       "[0.09003933519124985, 0.09003933519124985, 0.2575528025627136]"
      ]
     },
     "metadata": {},
     "execution_count": 16
    }
   ],
   "metadata": {}
  },
  {
   "cell_type": "code",
   "execution_count": 17,
   "source": [
    "## 예측 \n",
    "\n",
    "model.predict([10])"
   ],
   "outputs": [
    {
     "output_type": "execute_result",
     "data": {
      "text/plain": [
       "array([[33.24478]], dtype=float32)"
      ]
     },
     "metadata": {},
     "execution_count": 17
    }
   ],
   "metadata": {}
  },
  {
   "cell_type": "code",
   "execution_count": 25,
   "source": [
    "range(5)"
   ],
   "outputs": [
    {
     "output_type": "execute_result",
     "data": {
      "text/plain": [
       "range(0, 5)"
      ]
     },
     "metadata": {},
     "execution_count": 25
    }
   ],
   "metadata": {}
  },
  {
   "cell_type": "code",
   "execution_count": 26,
   "source": [
    "v = 1,2,3,4,5"
   ],
   "outputs": [],
   "metadata": {}
  },
  {
   "cell_type": "code",
   "execution_count": 29,
   "source": [
    "d = []\n",
    "for i in v:\n",
    "    d.append(model.predict([i]))\n",
    "\n",
    "print(d)\n",
    "    "
   ],
   "outputs": [
    {
     "output_type": "stream",
     "name": "stdout",
     "text": [
      "[array([[4.4914804]], dtype=float32), array([[7.6862917]], dtype=float32), array([[10.8811035]], dtype=float32), array([[14.075914]], dtype=float32), array([[17.270725]], dtype=float32)]\n"
     ]
    }
   ],
   "metadata": {}
  },
  {
   "cell_type": "code",
   "execution_count": 18,
   "source": [
    "y"
   ],
   "outputs": [
    {
     "output_type": "execute_result",
     "data": {
      "text/plain": [
       "array([ 5,  8, 11, 14, 17])"
      ]
     },
     "metadata": {},
     "execution_count": 18
    }
   ],
   "metadata": {}
  },
  {
   "cell_type": "code",
   "execution_count": 19,
   "source": [
    "x"
   ],
   "outputs": [
    {
     "output_type": "execute_result",
     "data": {
      "text/plain": [
       "array([1, 2, 3, 4, 5])"
      ]
     },
     "metadata": {},
     "execution_count": 19
    }
   ],
   "metadata": {}
  },
  {
   "cell_type": "code",
   "execution_count": 28,
   "source": [
    "model.predict(3)"
   ],
   "outputs": [
    {
     "output_type": "error",
     "ename": "IndexError",
     "evalue": "list index out of range",
     "traceback": [
      "\u001b[0;31m---------------------------------------------------------------------------\u001b[0m",
      "\u001b[0;31mIndexError\u001b[0m                                Traceback (most recent call last)",
      "\u001b[0;32m<ipython-input-28-c776093d9f5c>\u001b[0m in \u001b[0;36m<module>\u001b[0;34m\u001b[0m\n\u001b[0;32m----> 1\u001b[0;31m \u001b[0mmodel\u001b[0m\u001b[0;34m.\u001b[0m\u001b[0mpredict\u001b[0m\u001b[0;34m(\u001b[0m\u001b[0;36m3\u001b[0m\u001b[0;34m)\u001b[0m\u001b[0;34m\u001b[0m\u001b[0;34m\u001b[0m\u001b[0m\n\u001b[0m",
      "\u001b[0;32m~/anaconda3/lib/python3.8/site-packages/tensorflow/python/keras/engine/training.py\u001b[0m in \u001b[0;36mpredict\u001b[0;34m(self, x, batch_size, verbose, steps, callbacks, max_queue_size, workers, use_multiprocessing)\u001b[0m\n\u001b[1;32m   1596\u001b[0m                         '. Consider setting it to AutoShardPolicy.DATA.')\n\u001b[1;32m   1597\u001b[0m \u001b[0;34m\u001b[0m\u001b[0m\n\u001b[0;32m-> 1598\u001b[0;31m       data_handler = data_adapter.DataHandler(\n\u001b[0m\u001b[1;32m   1599\u001b[0m           \u001b[0mx\u001b[0m\u001b[0;34m=\u001b[0m\u001b[0mx\u001b[0m\u001b[0;34m,\u001b[0m\u001b[0;34m\u001b[0m\u001b[0;34m\u001b[0m\u001b[0m\n\u001b[1;32m   1600\u001b[0m           \u001b[0mbatch_size\u001b[0m\u001b[0;34m=\u001b[0m\u001b[0mbatch_size\u001b[0m\u001b[0;34m,\u001b[0m\u001b[0;34m\u001b[0m\u001b[0;34m\u001b[0m\u001b[0m\n",
      "\u001b[0;32m~/anaconda3/lib/python3.8/site-packages/tensorflow/python/keras/engine/data_adapter.py\u001b[0m in \u001b[0;36m__init__\u001b[0;34m(self, x, y, sample_weight, batch_size, steps_per_epoch, initial_epoch, epochs, shuffle, class_weight, max_queue_size, workers, use_multiprocessing, model, steps_per_execution)\u001b[0m\n\u001b[1;32m   1098\u001b[0m \u001b[0;34m\u001b[0m\u001b[0m\n\u001b[1;32m   1099\u001b[0m     \u001b[0madapter_cls\u001b[0m \u001b[0;34m=\u001b[0m \u001b[0mselect_data_adapter\u001b[0m\u001b[0;34m(\u001b[0m\u001b[0mx\u001b[0m\u001b[0;34m,\u001b[0m \u001b[0my\u001b[0m\u001b[0;34m)\u001b[0m\u001b[0;34m\u001b[0m\u001b[0;34m\u001b[0m\u001b[0m\n\u001b[0;32m-> 1100\u001b[0;31m     self._adapter = adapter_cls(\n\u001b[0m\u001b[1;32m   1101\u001b[0m         \u001b[0mx\u001b[0m\u001b[0;34m,\u001b[0m\u001b[0;34m\u001b[0m\u001b[0;34m\u001b[0m\u001b[0m\n\u001b[1;32m   1102\u001b[0m         \u001b[0my\u001b[0m\u001b[0;34m,\u001b[0m\u001b[0;34m\u001b[0m\u001b[0;34m\u001b[0m\u001b[0m\n",
      "\u001b[0;32m~/anaconda3/lib/python3.8/site-packages/tensorflow/python/keras/engine/data_adapter.py\u001b[0m in \u001b[0;36m__init__\u001b[0;34m(self, x, y, sample_weights, sample_weight_modes, batch_size, shuffle, **kwargs)\u001b[0m\n\u001b[1;32m    641\u001b[0m         sample_weights, sample_weight_modes)\n\u001b[1;32m    642\u001b[0m \u001b[0;34m\u001b[0m\u001b[0m\n\u001b[0;32m--> 643\u001b[0;31m     self._internal_adapter = TensorLikeDataAdapter(\n\u001b[0m\u001b[1;32m    644\u001b[0m         \u001b[0mx\u001b[0m\u001b[0;34m,\u001b[0m\u001b[0;34m\u001b[0m\u001b[0;34m\u001b[0m\u001b[0m\n\u001b[1;32m    645\u001b[0m         \u001b[0my\u001b[0m\u001b[0;34m=\u001b[0m\u001b[0my\u001b[0m\u001b[0;34m,\u001b[0m\u001b[0;34m\u001b[0m\u001b[0;34m\u001b[0m\u001b[0m\n",
      "\u001b[0;32m~/anaconda3/lib/python3.8/site-packages/tensorflow/python/keras/engine/data_adapter.py\u001b[0m in \u001b[0;36m__init__\u001b[0;34m(self, x, y, sample_weights, sample_weight_modes, batch_size, epochs, steps, shuffle, **kwargs)\u001b[0m\n\u001b[1;32m    271\u001b[0m     \u001b[0minputs\u001b[0m \u001b[0;34m=\u001b[0m \u001b[0mpack_x_y_sample_weight\u001b[0m\u001b[0;34m(\u001b[0m\u001b[0mx\u001b[0m\u001b[0;34m,\u001b[0m \u001b[0my\u001b[0m\u001b[0;34m,\u001b[0m \u001b[0msample_weights\u001b[0m\u001b[0;34m)\u001b[0m\u001b[0;34m\u001b[0m\u001b[0;34m\u001b[0m\u001b[0m\n\u001b[1;32m    272\u001b[0m \u001b[0;34m\u001b[0m\u001b[0m\n\u001b[0;32m--> 273\u001b[0;31m     \u001b[0mnum_samples\u001b[0m \u001b[0;34m=\u001b[0m \u001b[0mset\u001b[0m\u001b[0;34m(\u001b[0m\u001b[0mint\u001b[0m\u001b[0;34m(\u001b[0m\u001b[0mi\u001b[0m\u001b[0;34m.\u001b[0m\u001b[0mshape\u001b[0m\u001b[0;34m[\u001b[0m\u001b[0;36m0\u001b[0m\u001b[0;34m]\u001b[0m\u001b[0;34m)\u001b[0m \u001b[0;32mfor\u001b[0m \u001b[0mi\u001b[0m \u001b[0;32min\u001b[0m \u001b[0mnest\u001b[0m\u001b[0;34m.\u001b[0m\u001b[0mflatten\u001b[0m\u001b[0;34m(\u001b[0m\u001b[0minputs\u001b[0m\u001b[0;34m)\u001b[0m\u001b[0;34m)\u001b[0m\u001b[0;34m.\u001b[0m\u001b[0mpop\u001b[0m\u001b[0;34m(\u001b[0m\u001b[0;34m)\u001b[0m\u001b[0;34m\u001b[0m\u001b[0;34m\u001b[0m\u001b[0m\n\u001b[0m\u001b[1;32m    274\u001b[0m     \u001b[0m_check_data_cardinality\u001b[0m\u001b[0;34m(\u001b[0m\u001b[0minputs\u001b[0m\u001b[0;34m)\u001b[0m\u001b[0;34m\u001b[0m\u001b[0;34m\u001b[0m\u001b[0m\n\u001b[1;32m    275\u001b[0m \u001b[0;34m\u001b[0m\u001b[0m\n",
      "\u001b[0;32m~/anaconda3/lib/python3.8/site-packages/tensorflow/python/keras/engine/data_adapter.py\u001b[0m in \u001b[0;36m<genexpr>\u001b[0;34m(.0)\u001b[0m\n\u001b[1;32m    271\u001b[0m     \u001b[0minputs\u001b[0m \u001b[0;34m=\u001b[0m \u001b[0mpack_x_y_sample_weight\u001b[0m\u001b[0;34m(\u001b[0m\u001b[0mx\u001b[0m\u001b[0;34m,\u001b[0m \u001b[0my\u001b[0m\u001b[0;34m,\u001b[0m \u001b[0msample_weights\u001b[0m\u001b[0;34m)\u001b[0m\u001b[0;34m\u001b[0m\u001b[0;34m\u001b[0m\u001b[0m\n\u001b[1;32m    272\u001b[0m \u001b[0;34m\u001b[0m\u001b[0m\n\u001b[0;32m--> 273\u001b[0;31m     \u001b[0mnum_samples\u001b[0m \u001b[0;34m=\u001b[0m \u001b[0mset\u001b[0m\u001b[0;34m(\u001b[0m\u001b[0mint\u001b[0m\u001b[0;34m(\u001b[0m\u001b[0mi\u001b[0m\u001b[0;34m.\u001b[0m\u001b[0mshape\u001b[0m\u001b[0;34m[\u001b[0m\u001b[0;36m0\u001b[0m\u001b[0;34m]\u001b[0m\u001b[0;34m)\u001b[0m \u001b[0;32mfor\u001b[0m \u001b[0mi\u001b[0m \u001b[0;32min\u001b[0m \u001b[0mnest\u001b[0m\u001b[0;34m.\u001b[0m\u001b[0mflatten\u001b[0m\u001b[0;34m(\u001b[0m\u001b[0minputs\u001b[0m\u001b[0;34m)\u001b[0m\u001b[0;34m)\u001b[0m\u001b[0;34m.\u001b[0m\u001b[0mpop\u001b[0m\u001b[0;34m(\u001b[0m\u001b[0;34m)\u001b[0m\u001b[0;34m\u001b[0m\u001b[0;34m\u001b[0m\u001b[0m\n\u001b[0m\u001b[1;32m    274\u001b[0m     \u001b[0m_check_data_cardinality\u001b[0m\u001b[0;34m(\u001b[0m\u001b[0minputs\u001b[0m\u001b[0;34m)\u001b[0m\u001b[0;34m\u001b[0m\u001b[0;34m\u001b[0m\u001b[0m\n\u001b[1;32m    275\u001b[0m \u001b[0;34m\u001b[0m\u001b[0m\n",
      "\u001b[0;32m~/anaconda3/lib/python3.8/site-packages/tensorflow/python/framework/tensor_shape.py\u001b[0m in \u001b[0;36m__getitem__\u001b[0;34m(self, key)\u001b[0m\n\u001b[1;32m    887\u001b[0m       \u001b[0;32melse\u001b[0m\u001b[0;34m:\u001b[0m\u001b[0;34m\u001b[0m\u001b[0;34m\u001b[0m\u001b[0m\n\u001b[1;32m    888\u001b[0m         \u001b[0;32mif\u001b[0m \u001b[0mself\u001b[0m\u001b[0;34m.\u001b[0m\u001b[0m_v2_behavior\u001b[0m\u001b[0;34m:\u001b[0m\u001b[0;34m\u001b[0m\u001b[0;34m\u001b[0m\u001b[0m\n\u001b[0;32m--> 889\u001b[0;31m           \u001b[0;32mreturn\u001b[0m \u001b[0mself\u001b[0m\u001b[0;34m.\u001b[0m\u001b[0m_dims\u001b[0m\u001b[0;34m[\u001b[0m\u001b[0mkey\u001b[0m\u001b[0;34m]\u001b[0m\u001b[0;34m.\u001b[0m\u001b[0mvalue\u001b[0m\u001b[0;34m\u001b[0m\u001b[0;34m\u001b[0m\u001b[0m\n\u001b[0m\u001b[1;32m    890\u001b[0m         \u001b[0;32melse\u001b[0m\u001b[0;34m:\u001b[0m\u001b[0;34m\u001b[0m\u001b[0;34m\u001b[0m\u001b[0m\n\u001b[1;32m    891\u001b[0m           \u001b[0;32mreturn\u001b[0m \u001b[0mself\u001b[0m\u001b[0;34m.\u001b[0m\u001b[0m_dims\u001b[0m\u001b[0;34m[\u001b[0m\u001b[0mkey\u001b[0m\u001b[0;34m]\u001b[0m\u001b[0;34m\u001b[0m\u001b[0;34m\u001b[0m\u001b[0m\n",
      "\u001b[0;31mIndexError\u001b[0m: list index out of range"
     ]
    }
   ],
   "metadata": {}
  }
 ],
 "metadata": {
  "orig_nbformat": 4,
  "language_info": {
   "name": "python",
   "version": "3.8.8",
   "mimetype": "text/x-python",
   "codemirror_mode": {
    "name": "ipython",
    "version": 3
   },
   "pygments_lexer": "ipython3",
   "nbconvert_exporter": "python",
   "file_extension": ".py"
  },
  "kernelspec": {
   "name": "python3",
   "display_name": "Python 3.8.8 64-bit ('base': conda)"
  },
  "interpreter": {
   "hash": "39c6663c694f66742a48c32a0de310398657a941bd026b39790ca56507cab329"
  }
 },
 "nbformat": 4,
 "nbformat_minor": 2
}