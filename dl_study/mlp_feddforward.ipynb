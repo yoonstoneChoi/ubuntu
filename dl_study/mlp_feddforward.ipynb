{
 "cells": [
  {
   "cell_type": "markdown",
   "source": [
    "## 멀티 퍼셉트론 순뱡향 패스"
   ],
   "metadata": {}
  },
  {
   "cell_type": "code",
   "execution_count": 1,
   "source": [
    "import numpy as np \n",
    "import pandas as pd "
   ],
   "outputs": [],
   "metadata": {}
  },
  {
   "cell_type": "markdown",
   "source": [
    "### 활성화 함수 : 시그모이드"
   ],
   "metadata": {}
  },
  {
   "cell_type": "code",
   "execution_count": 4,
   "source": [
    "def actf(x):\n",
    "    return 1 / (1+np.exp(-x))"
   ],
   "outputs": [],
   "metadata": {}
  },
  {
   "cell_type": "markdown",
   "source": [
    "### 시그모이드 함수의 미분치(역함수)"
   ],
   "metadata": {}
  },
  {
   "cell_type": "code",
   "execution_count": 5,
   "source": [
    "def actf_deriv(x):\n",
    "    return x * (1 - x) "
   ],
   "outputs": [],
   "metadata": {}
  },
  {
   "cell_type": "markdown",
   "source": [
    "### Odds\n",
    "- odds는 프로바빌리티의 또 다른 표현법\n",
    "- 어던 사건이 일어날 확률을 p라고 한다면, odds는 p(1-p)로 구현된다\n",
    "- odds는 질병 발병 확률 또는 도박 배팅의 확률을 표현할 때 많있슴\n",
    "\n",
    "- odds = p /1 - p \n",
    "\n",
    "- logit 은 odds에 로그를 씌운것\n",
    "\n"
   ],
   "metadata": {}
  },
  {
   "cell_type": "markdown",
   "source": [
    "### 입력 유닛 개수, 은닉 유닛 개수, 출력 유닛 개수"
   ],
   "metadata": {}
  },
  {
   "cell_type": "code",
   "execution_count": 6,
   "source": [
    "inputs, hidden, outputs = 2,2,1\n",
    "learning_rate = 0.2 "
   ],
   "outputs": [],
   "metadata": {}
  },
  {
   "cell_type": "code",
   "execution_count": 8,
   "source": [
    "## 학습 샘플과 정답 xor\n",
    "X = np.array([[0,0],[0,1],[1,0],[1,1]])\n",
    "T = np.array([[0],[1],[1],[0]])"
   ],
   "outputs": [],
   "metadata": {}
  },
  {
   "cell_type": "code",
   "execution_count": 9,
   "source": [
    "## 훈련데이터\n",
    "W1 = np.array([[0.10,0.20], [0.30,0.40]])\n",
    "W2 = np.array([[0.50], [0.60]])\n",
    "B1 = np.array([0.1,0.2])\n",
    "B2 = np.array([0.3])"
   ],
   "outputs": [],
   "metadata": {}
  },
  {
   "cell_type": "code",
   "execution_count": 10,
   "source": [
    "## 순방향 전파 계산\n",
    "def predict(X):\n",
    "    layer0 = X ## 입력을 layer0에 대입\n",
    "    Z1 = np.dot(layer0, W1) + B1 ## 입력값에 대해 aiffine function 계산: 행렬 곱\n",
    "    layer1 = actf(Z1) ## ## 활성화 함수 (시그모이드)\n",
    "    Z2 = np.dot(layer1, W2) + B2 ## layer1에 대해 aiffine function 계산\n",
    "    layer2 = actf(Z2) ## 활성화 함수 (시그모이드)\n",
    "    return layer0, layer1, layer2\n"
   ],
   "outputs": [],
   "metadata": {}
  },
  {
   "cell_type": "code",
   "execution_count": 14,
   "source": [
    "def test():\n",
    "    for x, y in zip(X, T):\n",
    "        x = np.reshape(x, (1,-1))\n",
    "        layer0, layer1, layer2 = predict(x)\n",
    "        print(x, y, layer2)"
   ],
   "outputs": [],
   "metadata": {}
  },
  {
   "cell_type": "code",
   "execution_count": 15,
   "source": [
    "test()"
   ],
   "outputs": [
    {
     "output_type": "stream",
     "name": "stdout",
     "text": [
      "[[0 0]] [0] [[0.70938314]]\n",
      "[[0 1]] [1] [[0.72844306]]\n",
      "[[1 0]] [1] [[0.71791234]]\n",
      "[[1 1]] [0] [[0.73598705]]\n"
     ]
    }
   ],
   "metadata": {}
  },
  {
   "cell_type": "code",
   "execution_count": null,
   "source": [],
   "outputs": [],
   "metadata": {}
  }
 ],
 "metadata": {
  "orig_nbformat": 4,
  "language_info": {
   "name": "python",
   "version": "3.8.8",
   "mimetype": "text/x-python",
   "codemirror_mode": {
    "name": "ipython",
    "version": 3
   },
   "pygments_lexer": "ipython3",
   "nbconvert_exporter": "python",
   "file_extension": ".py"
  },
  "kernelspec": {
   "name": "python3",
   "display_name": "Python 3.8.8 64-bit ('base': conda)"
  },
  "interpreter": {
   "hash": "39c6663c694f66742a48c32a0de310398657a941bd026b39790ca56507cab329"
  }
 },
 "nbformat": 4,
 "nbformat_minor": 2
}